{
 "cells": [
  {
   "cell_type": "code",
   "execution_count": 1,
   "metadata": {},
   "outputs": [],
   "source": [
    "import re\n",
    "import json\n",
    "import requests"
   ]
  },
  {
   "cell_type": "code",
   "execution_count": null,
   "metadata": {},
   "outputs": [],
   "source": []
  },
  {
   "cell_type": "code",
   "execution_count": 2,
   "metadata": {},
   "outputs": [],
   "source": [
    "start = '1587427200'\n",
    "end = '1451520000'\n",
    "\n",
    "url = f'https://web-api.coinmarketcap.com/v1/cryptocurrency/ohlcv/historical?convert=USD&slug=siacoin&time_end={start}&time_start={end}'"
   ]
  },
  {
   "cell_type": "code",
   "execution_count": null,
   "metadata": {},
   "outputs": [],
   "source": []
  },
  {
   "cell_type": "code",
   "execution_count": 3,
   "metadata": {},
   "outputs": [],
   "source": [
    "def make_request(url):\n",
    "    response = requests.get(url)\n",
    "    \n",
    "    assert response.status_code == 200\n",
    "    return json.loads(response.content)"
   ]
  },
  {
   "cell_type": "code",
   "execution_count": null,
   "metadata": {},
   "outputs": [],
   "source": []
  },
  {
   "cell_type": "code",
   "execution_count": 4,
   "metadata": {},
   "outputs": [],
   "source": [
    "json_response = make_request(url)"
   ]
  },
  {
   "cell_type": "code",
   "execution_count": null,
   "metadata": {},
   "outputs": [],
   "source": []
  },
  {
   "cell_type": "code",
   "execution_count": 5,
   "metadata": {},
   "outputs": [],
   "source": [
    "from collections import defaultdict"
   ]
  },
  {
   "cell_type": "code",
   "execution_count": null,
   "metadata": {},
   "outputs": [],
   "source": []
  },
  {
   "cell_type": "code",
   "execution_count": 6,
   "metadata": {},
   "outputs": [],
   "source": [
    "by_month = defaultdict(list)\n",
    "\n",
    "quotes = json_response['data']['quotes']\n",
    "for quote in quotes:\n",
    "    close_time = quote['time_close']\n",
    "    \n",
    "    groups = re.search(r'^(\\d+)-(\\d+)-', close_time)\n",
    "    \n",
    "    year = groups.group(1)\n",
    "    month = groups.group(2)\n",
    "    \n",
    "    key = f'{year}-{month}'.replace('-0', '-')\n",
    "    by_month[key].append(\n",
    "        quote['quote']['USD']['high']\n",
    "    )"
   ]
  },
  {
   "cell_type": "code",
   "execution_count": null,
   "metadata": {},
   "outputs": [],
   "source": []
  },
  {
   "cell_type": "code",
   "execution_count": 7,
   "metadata": {},
   "outputs": [],
   "source": [
    "import numpy as np"
   ]
  },
  {
   "cell_type": "code",
   "execution_count": null,
   "metadata": {},
   "outputs": [],
   "source": []
  },
  {
   "cell_type": "code",
   "execution_count": 8,
   "metadata": {},
   "outputs": [],
   "source": [
    "max_high_by_month = {}\n",
    "\n",
    "for key in by_month.keys():\n",
    "    max_high_by_month[key] = np.max(by_month[key])"
   ]
  },
  {
   "cell_type": "code",
   "execution_count": null,
   "metadata": {},
   "outputs": [],
   "source": []
  },
  {
   "cell_type": "code",
   "execution_count": 9,
   "metadata": {},
   "outputs": [
    {
     "data": {
      "text/plain": [
       "{'2016-1': 3.540329998941161e-05,\n",
       " '2016-2': 0.00014594300591852516,\n",
       " '2016-3': 0.00017359199409838766,\n",
       " '2016-4': 0.00014734899741597474,\n",
       " '2016-5': 0.00035821201163344085,\n",
       " '2016-6': 0.0011316200252622366,\n",
       " '2016-7': 0.0008670879760757089,\n",
       " '2016-8': 0.0006357270176522434,\n",
       " '2016-9': 0.0007552350289188325,\n",
       " '2016-10': 0.0004909790004603565,\n",
       " '2016-11': 0.00038899300852790475,\n",
       " '2016-12': 0.000268881005467847,\n",
       " '2017-1': 0.00041142699774354696,\n",
       " '2017-2': 0.00042406300781294703,\n",
       " '2017-3': 0.000786992022767663,\n",
       " '2017-4': 0.001294099958613515,\n",
       " '2017-5': 0.012221000157296658,\n",
       " '2017-6': 0.022363899275660515,\n",
       " '2017-7': 0.014814499765634537,\n",
       " '2017-8': 0.010056599974632263,\n",
       " '2017-9': 0.009494190104305744,\n",
       " '2017-10': 0.005499720107764006,\n",
       " '2017-11': 0.006964200176298618,\n",
       " '2017-12': 0.038732901215553284,\n",
       " '2018-1': 0.11170800030231476,\n",
       " '2018-2': 0.03489600121974945,\n",
       " '2018-3': 0.023155199363827705,\n",
       " '2018-4': 0.03268929943442345,\n",
       " '2018-5': 0.0291811004281044,\n",
       " '2018-6': 0.018454499542713165,\n",
       " '2018-7': 0.013110299594700336,\n",
       " '2018-8': 0.00934658,\n",
       " '2018-9': 0.00800999,\n",
       " '2018-10': 0.00815069,\n",
       " '2018-11': 0.00658451,\n",
       " '2018-12': 0.00324936585199,\n",
       " '2019-1': 0.00291833788805,\n",
       " '2019-2': 0.00267625907421,\n",
       " '2019-3': 0.00287914644133,\n",
       " '2019-4': 0.00372898160894,\n",
       " '2019-5': 0.00402888361771,\n",
       " '2019-6': 0.00370323782744,\n",
       " '2019-7': 0.00362121760349,\n",
       " '2019-8': 0.00287331388125,\n",
       " '2019-9': 0.00199098578041,\n",
       " '2019-10': 0.0024447847721,\n",
       " '2019-11': 0.00221654575341,\n",
       " '2019-12': 0.00181497179809,\n",
       " '2020-1': 0.00180049639587,\n",
       " '2020-2': 0.00382196013566,\n",
       " '2020-3': 0.0023600282842,\n",
       " '2020-4': 0.00150304936929}"
      ]
     },
     "execution_count": 9,
     "metadata": {},
     "output_type": "execute_result"
    }
   ],
   "source": [
    "max_high_by_month"
   ]
  },
  {
   "cell_type": "code",
   "execution_count": null,
   "metadata": {},
   "outputs": [],
   "source": []
  },
  {
   "cell_type": "code",
   "execution_count": 10,
   "metadata": {},
   "outputs": [],
   "source": [
    "with open('../data/reddit/siacoin_price.json', 'w') as output:\n",
    "    output.write(json.dumps(max_high_by_month))"
   ]
  },
  {
   "cell_type": "code",
   "execution_count": null,
   "metadata": {},
   "outputs": [],
   "source": []
  }
 ],
 "metadata": {
  "kernelspec": {
   "display_name": "Python 3",
   "language": "python",
   "name": "python3"
  },
  "language_info": {
   "codemirror_mode": {
    "name": "ipython",
    "version": 3
   },
   "file_extension": ".py",
   "mimetype": "text/x-python",
   "name": "python",
   "nbconvert_exporter": "python",
   "pygments_lexer": "ipython3",
   "version": "3.7.3"
  }
 },
 "nbformat": 4,
 "nbformat_minor": 4
}
