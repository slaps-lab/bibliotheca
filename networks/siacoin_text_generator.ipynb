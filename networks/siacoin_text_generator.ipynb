{
 "cells": [
  {
   "cell_type": "code",
   "execution_count": 1,
   "metadata": {},
   "outputs": [
    {
     "data": {
      "text/plain": [
       "'3.7.3 (default, Mar 27 2019, 09:23:15) \\n[Clang 10.0.1 (clang-1001.0.46.3)]'"
      ]
     },
     "execution_count": 1,
     "metadata": {},
     "output_type": "execute_result"
    }
   ],
   "source": [
    "import sys\n",
    "\n",
    "## find 'bibliotheca' package\n",
    "sys.path.insert(0, '..')\n",
    "\n",
    "sys.version"
   ]
  },
  {
   "cell_type": "code",
   "execution_count": null,
   "metadata": {},
   "outputs": [],
   "source": []
  },
  {
   "cell_type": "code",
   "execution_count": 2,
   "metadata": {},
   "outputs": [],
   "source": [
    "import json\n",
    "import datetime\n",
    "import numpy as np\n",
    "\n",
    "import re"
   ]
  },
  {
   "cell_type": "code",
   "execution_count": null,
   "metadata": {},
   "outputs": [],
   "source": []
  },
  {
   "cell_type": "code",
   "execution_count": 3,
   "metadata": {},
   "outputs": [],
   "source": [
    "from collections import defaultdict"
   ]
  },
  {
   "cell_type": "code",
   "execution_count": null,
   "metadata": {},
   "outputs": [],
   "source": []
  },
  {
   "cell_type": "code",
   "execution_count": 4,
   "metadata": {},
   "outputs": [],
   "source": [
    "siacoin_grouping = {}\n",
    "\n",
    "with open('../data/reddit/siacoin_grouping.json', 'r') as siacoin_grouping_json:\n",
    "    siacoin_grouping = json.loads(siacoin_grouping_json.read())"
   ]
  },
  {
   "cell_type": "code",
   "execution_count": null,
   "metadata": {},
   "outputs": [],
   "source": []
  },
  {
   "cell_type": "code",
   "execution_count": 5,
   "metadata": {},
   "outputs": [],
   "source": [
    "siacoin_centrality_metrics = {}\n",
    "\n",
    "with open('../data/reddit/siacoin_centrality_metrics.json', 'r') as siacoin_centrality_metrics_json:\n",
    "    siacoin_centrality_metrics = json.loads(siacoin_centrality_metrics_json.read())"
   ]
  },
  {
   "cell_type": "code",
   "execution_count": null,
   "metadata": {},
   "outputs": [],
   "source": []
  },
  {
   "cell_type": "code",
   "execution_count": 6,
   "metadata": {},
   "outputs": [],
   "source": [
    "import spacy\n",
    "\n",
    "from bibliotheca.networks import centrality_metrics\n",
    "from bibliotheca.components import CustomComponent\n",
    "from bibliotheca.utils import contractions"
   ]
  },
  {
   "cell_type": "code",
   "execution_count": null,
   "metadata": {},
   "outputs": [],
   "source": []
  },
  {
   "cell_type": "code",
   "execution_count": 7,
   "metadata": {},
   "outputs": [],
   "source": [
    "def clean_post(text: str) -> str:\n",
    "    \n",
    "    flags = re.IGNORECASE | re.MULTILINE\n",
    "    \n",
    "    text = re.sub(r'[\\r\\n]', ' ', text, flags = flags)\n",
    "    text = re.sub(r'\\b(sia|sc)\\b', 'siacoin', text, flags = flags)\n",
    "    \n",
    "    text = re.sub(r'\\[removed\\]', '', text, flags = flags)\n",
    "    \n",
    "    text = contractions.expand_contractions(text)\n",
    "    \n",
    "    return text.strip().lower()"
   ]
  },
  {
   "cell_type": "code",
   "execution_count": null,
   "metadata": {},
   "outputs": [],
   "source": []
  },
  {
   "cell_type": "code",
   "execution_count": 8,
   "metadata": {},
   "outputs": [
    {
     "data": {
      "text/plain": [
       "[('custom_component',\n",
       "  <bibliotheca.components.custom.CustomComponent at 0x1310251d0>),\n",
       " ('tagger', <spacy.pipeline.pipes.Tagger at 0x131062da0>),\n",
       " ('sentencizer', <spacy.pipeline.hooks.SentenceSegmenter at 0x131025198>)]"
      ]
     },
     "execution_count": 8,
     "metadata": {},
     "output_type": "execute_result"
    }
   ],
   "source": [
    "nlp = spacy.load('en_core_web_lg', disable=['parser', 'ner'])\n",
    "\n",
    "nlp.add_pipe(nlp.create_pipe(\"sentencizer\"))\n",
    "\n",
    "nlp.add_pipe(\n",
    "    CustomComponent(nlp, clean_post),\n",
    "    first = True\n",
    ")\n",
    "\n",
    "nlp.pipeline"
   ]
  },
  {
   "cell_type": "code",
   "execution_count": null,
   "metadata": {},
   "outputs": [],
   "source": []
  },
  {
   "cell_type": "code",
   "execution_count": 9,
   "metadata": {},
   "outputs": [],
   "source": [
    "def get_most_influential_posts(siacoin_grouping, siacoin_centrality_metrics, stop_authors, author_limit, stop_words, debug = False, lemma = False):\n",
    "    influential_authors_by_month = defaultdict(list)\n",
    "    influential_text_by_month = defaultdict(list)\n",
    "\n",
    "    for year in siacoin_grouping.keys():\n",
    "        for month in siacoin_grouping[year].keys():\n",
    "            key = f'{year}-{month}'\n",
    "            metric_groupings = siacoin_centrality_metrics[key]\n",
    "            acceptable_authors = centrality_metrics.filter_metrics(\n",
    "                metric_groupings,\n",
    "                stop_authors,\n",
    "                author_limit\n",
    "            )\n",
    "\n",
    "            influential_authors_by_month[key] = acceptable_authors\n",
    "\n",
    "            posts = list(siacoin_grouping[year][month].keys())\n",
    "            \n",
    "            if debug:\n",
    "                print(key, '@', len(posts))\n",
    "\n",
    "            for post_id in posts:\n",
    "                submissions = list(filter(\n",
    "                    lambda submission: acceptable_authors[submission['author']],\n",
    "                    siacoin_grouping[year][month][post_id],\n",
    "                ))\n",
    "\n",
    "                for submission in submissions:\n",
    "                    doc = nlp(submission['text'])\n",
    "\n",
    "                    sents = []\n",
    "                    for sent in doc.sents:\n",
    "                        tokens = []\n",
    "                        for token in sent:\n",
    "                            word = token.text\n",
    "                            \n",
    "                            if lemma:\n",
    "                                word = token.lemma_\n",
    "                                if not word.isalpha():\n",
    "                                    word = token.text\n",
    "                                \n",
    "                            if word.isalpha() and word not in stop_words:\n",
    "                                tokens.append(word)\n",
    "                                \n",
    "                        sents.append(tokens)\n",
    "\n",
    "                    if len(tokens) > 0:\n",
    "                        influential_text_by_month[key].append(sents)\n",
    "                        \n",
    "    return {\n",
    "        'authors': influential_authors_by_month,\n",
    "        'texts': influential_text_by_month\n",
    "    }\n",
    "\n",
    "def create_vocab(influential_text_by_month):\n",
    "    token_lookup = defaultdict(int)\n",
    "\n",
    "    for key in influential_text_by_month.keys():\n",
    "        posts = influential_text_by_month[key]\n",
    "        for post in posts:\n",
    "            for sent in post:\n",
    "                for token in sent:\n",
    "                    token_lookup[token] += 1\n",
    "    \n",
    "    return token_lookup\n",
    "\n",
    "def find_bots(influential_authors_by_month):\n",
    "    bots = []\n",
    "    for key in influential_authors_by_month.keys():\n",
    "        for author, allowed in influential_authors_by_month[key].items():\n",
    "            author_to_lower = author.lower()\n",
    "            if allowed and ('bot' in author_to_lower or 'messenger' in author_to_lower):\n",
    "                bots.append(author)\n",
    "\n",
    "    return bots\n",
    "\n",
    "def find_stop_words_from_vocab(vocab: defaultdict(int), low_threshold: int, high_threshold: int):\n",
    "    stop_words = []\n",
    "    for token, amount in vocab.items():\n",
    "        if amount < low_threshold or amount > high_threshold:\n",
    "            stop_words.append(token)\n",
    "            \n",
    "    return stop_words"
   ]
  },
  {
   "cell_type": "code",
   "execution_count": null,
   "metadata": {},
   "outputs": [],
   "source": []
  },
  {
   "cell_type": "code",
   "execution_count": 10,
   "metadata": {},
   "outputs": [],
   "source": [
    "from nltk.corpus import stopwords"
   ]
  },
  {
   "cell_type": "code",
   "execution_count": null,
   "metadata": {},
   "outputs": [],
   "source": []
  },
  {
   "cell_type": "code",
   "execution_count": 11,
   "metadata": {},
   "outputs": [
    {
     "name": "stdout",
     "output_type": "stream",
     "text": [
      "finished iteration# 1 (cont)\n",
      "complete @ iteration# 2\n"
     ]
    }
   ],
   "source": [
    "stop_authors = [ 'TotesMessenger' ]\n",
    "stop_words = stopwords.words('english')\n",
    "\n",
    "iteration = 1\n",
    "top_authors_to_take = 10\n",
    "\n",
    "while True:\n",
    "    \n",
    "    results = get_most_influential_posts(\n",
    "        siacoin_grouping,\n",
    "        siacoin_centrality_metrics,\n",
    "        stop_authors,\n",
    "        top_authors_to_take,\n",
    "        [],\n",
    "        False,\n",
    "        False\n",
    "    )\n",
    "\n",
    "    influential_authors_by_month = results['authors']\n",
    "    influential_text_by_month = results['texts']\n",
    "    \n",
    "    n_stop_authors = len(stop_authors)\n",
    "    \n",
    "    stop_authors.extend(\n",
    "        find_bots(influential_authors_by_month)\n",
    "    )\n",
    "    stop_authors = list(set(stop_authors))\n",
    "    \n",
    "    if n_stop_authors == len(stop_authors):\n",
    "        token_lookup = create_vocab(influential_text_by_month)\n",
    "        print('complete @ iteration#', iteration)\n",
    "        \n",
    "        break\n",
    "        \n",
    "    print('finished iteration#', iteration, '(cont)')\n",
    "    iteration += 1"
   ]
  },
  {
   "cell_type": "code",
   "execution_count": null,
   "metadata": {},
   "outputs": [],
   "source": []
  },
  {
   "cell_type": "code",
   "execution_count": 12,
   "metadata": {},
   "outputs": [],
   "source": [
    "import seaborn as sns\n",
    "import matplotlib.pyplot as plt"
   ]
  },
  {
   "cell_type": "code",
   "execution_count": null,
   "metadata": {},
   "outputs": [],
   "source": []
  },
  {
   "cell_type": "code",
   "execution_count": 13,
   "metadata": {},
   "outputs": [
    {
     "name": "stdout",
     "output_type": "stream",
     "text": [
      "16.09609183046683\n",
      "14.0\n"
     ]
    },
    {
     "data": {
      "image/png": "[encoded data removed]",
      "text/plain": [
       "<Figure size 2160x720 with 1 Axes>"
      ]
     },
     "metadata": {
      "needs_background": "light"
     },
     "output_type": "display_data"
    }
   ],
   "source": [
    "sentence_lengths = []\n",
    "\n",
    "for key in influential_text_by_month:\n",
    "    for post in influential_text_by_month[key]:\n",
    "        sentence_lengths.extend([ len(sent) for sent in post ])\n",
    "\n",
    "plt.figure(figsize=(30, 10))\n",
    "\n",
    "plt.title('distribution of sentence lengths')\n",
    "sns.distplot(sentence_lengths)\n",
    "\n",
    "print(np.mean(sentence_lengths))\n",
    "print(np.median(sentence_lengths))"
   ]
  },
  {
   "cell_type": "code",
   "execution_count": null,
   "metadata": {},
   "outputs": [],
   "source": []
  },
  {
   "cell_type": "code",
   "execution_count": 14,
   "metadata": {},
   "outputs": [
    {
     "data": {
      "text/plain": [
       "<matplotlib.axes._subplots.AxesSubplot at 0x19eca9908>"
      ]
     },
     "execution_count": 14,
     "metadata": {},
     "output_type": "execute_result"
    },
    {
     "data": {
      "image/png": "[encoded data removed]",
      "text/plain": [
       "<Figure size 2160x720 with 1 Axes>"
      ]
     },
     "metadata": {
      "needs_background": "light"
     },
     "output_type": "display_data"
    }
   ],
   "source": [
    "plt.figure(figsize=(30, 10))\n",
    "\n",
    "plt.title('distribution of token frequency')\n",
    "sns.distplot(list(token_lookup.values()))"
   ]
  },
  {
   "cell_type": "code",
   "execution_count": null,
   "metadata": {},
   "outputs": [],
   "source": []
  },
  {
   "cell_type": "code",
   "execution_count": 15,
   "metadata": {},
   "outputs": [
    {
     "name": "stdout",
     "output_type": "stream",
     "text": [
      "len# 35442\n"
     ]
    }
   ],
   "source": [
    "limit = 10\n",
    "sentence_must_be = 13\n",
    "\n",
    "X_words = []\n",
    "y_words = []\n",
    "\n",
    "ignore_terms = []\n",
    "\n",
    "for key in influential_text_by_month.keys():\n",
    "    for posts in influential_text_by_month[key]:\n",
    "        for post in posts:\n",
    "            for sent in post:\n",
    "                if len(sent) < sentence_must_be:\n",
    "                    continue\n",
    "\n",
    "                ## filter down low/high volume terms\n",
    "                tokens = [ tk for tk in post if tk not in ignore_terms ]\n",
    "\n",
    "                n_tokens = len(tokens)\n",
    "                for i in range(limit, n_tokens):\n",
    "                    X_words.append(tokens[i-limit:i])\n",
    "                    y_words.append(tokens[i])\n",
    "    \n",
    "print('len#', len(X_words))"
   ]
  },
  {
   "cell_type": "code",
   "execution_count": null,
   "metadata": {},
   "outputs": [],
   "source": []
  },
  {
   "cell_type": "code",
   "execution_count": 16,
   "metadata": {},
   "outputs": [
    {
     "name": "stdout",
     "output_type": "stream",
     "text": [
      "['can', 'set', 'your', 'offer', 'as', 'a', 'percentage', 'of', 'the', 'current'] \n",
      "\n",
      "target = market\n"
     ]
    }
   ],
   "source": [
    "print(\n",
    "    X_words[3],\n",
    "    '\\n\\n'\n",
    "    'target =', y_words[3]\n",
    ")"
   ]
  },
  {
   "cell_type": "code",
   "execution_count": null,
   "metadata": {},
   "outputs": [],
   "source": []
  },
  {
   "cell_type": "code",
   "execution_count": 17,
   "metadata": {},
   "outputs": [],
   "source": [
    "def get_common_vocab(X, y):\n",
    "    vocab = defaultdict(int)\n",
    "    \n",
    "    for x in X:\n",
    "        for tk in x:\n",
    "            vocab[tk] += 1\n",
    "    \n",
    "    for tk in y:\n",
    "        vocab[tk] += 1\n",
    "        \n",
    "    return list(vocab.keys())\n",
    "\n",
    "vocab = get_common_vocab(X_words, y_words)"
   ]
  },
  {
   "cell_type": "code",
   "execution_count": null,
   "metadata": {},
   "outputs": [],
   "source": []
  },
  {
   "cell_type": "code",
   "execution_count": 18,
   "metadata": {},
   "outputs": [
    {
     "name": "stdout",
     "output_type": "stream",
     "text": [
      "vocab# 5228\n"
     ]
    }
   ],
   "source": [
    "vocab_size = len(vocab)\n",
    "word_indices = dict((tk, i) for i, tk in enumerate(vocab))\n",
    "indices_word = dict((i, tk) for i, tk in enumerate(vocab))\n",
    "\n",
    "print('vocab#', vocab_size)"
   ]
  },
  {
   "cell_type": "code",
   "execution_count": null,
   "metadata": {},
   "outputs": [],
   "source": []
  },
  {
   "cell_type": "code",
   "execution_count": 19,
   "metadata": {},
   "outputs": [],
   "source": [
    "X = []\n",
    "y = []\n",
    "\n",
    "for x in X_words:\n",
    "    X.append(\n",
    "        [ word_indices[tk] for tk in x ]\n",
    "    )\n",
    "    \n",
    "for tk in y_words:\n",
    "    y.append(word_indices[tk])"
   ]
  },
  {
   "cell_type": "code",
   "execution_count": null,
   "metadata": {},
   "outputs": [],
   "source": []
  },
  {
   "cell_type": "code",
   "execution_count": 20,
   "metadata": {},
   "outputs": [
    {
     "name": "stdout",
     "output_type": "stream",
     "text": [
      "[1, 2, 3, 4, 5, 6, 7, 8, 9, 10] \n",
      "\n",
      "target = 11\n"
     ]
    }
   ],
   "source": [
    "print(\n",
    "    X[1],\n",
    "    '\\n\\n'\n",
    "    'target =', y[1]\n",
    ")"
   ]
  },
  {
   "cell_type": "code",
   "execution_count": null,
   "metadata": {},
   "outputs": [],
   "source": []
  },
  {
   "cell_type": "code",
   "execution_count": 21,
   "metadata": {},
   "outputs": [
    {
     "name": "stderr",
     "output_type": "stream",
     "text": [
      "Using TensorFlow backend.\n"
     ]
    }
   ],
   "source": [
    "from keras.utils import to_categorical\n",
    "\n",
    "from keras.models import Sequential\n",
    "from keras.layers import Dense, Dropout, LSTM, Embedding"
   ]
  },
  {
   "cell_type": "code",
   "execution_count": null,
   "metadata": {},
   "outputs": [],
   "source": []
  },
  {
   "cell_type": "code",
   "execution_count": 22,
   "metadata": {},
   "outputs": [],
   "source": [
    "X_keras = np.array(X)\n",
    "y_keras = to_categorical(y, vocab_size)\n",
    "\n",
    "seq_length = X_keras.shape[1]"
   ]
  },
  {
   "cell_type": "code",
   "execution_count": null,
   "metadata": {},
   "outputs": [],
   "source": []
  },
  {
   "cell_type": "code",
   "execution_count": 23,
   "metadata": {},
   "outputs": [
    {
     "name": "stdout",
     "output_type": "stream",
     "text": [
      "Model: \"sequential_1\"\n",
      "_________________________________________________________________\n",
      "Layer (type)                 Output Shape              Param #   \n",
      "=================================================================\n",
      "embedding_1 (Embedding)      (None, 10, 10)            52280     \n",
      "_________________________________________________________________\n",
      "lstm_1 (LSTM)                (None, 10, 200)           168800    \n",
      "_________________________________________________________________\n",
      "lstm_2 (LSTM)                (None, 200)               320800    \n",
      "_________________________________________________________________\n",
      "dense_1 (Dense)              (None, 200)               40200     \n",
      "_________________________________________________________________\n",
      "dense_2 (Dense)              (None, 5228)              1050828   \n",
      "=================================================================\n",
      "Total params: 1,632,908\n",
      "Trainable params: 1,632,908\n",
      "Non-trainable params: 0\n",
      "_________________________________________________________________\n",
      "None\n"
     ]
    }
   ],
   "source": [
    "model = Sequential()\n",
    "\n",
    "## https://keras.io/layers/embeddings/#embeddings\n",
    "model.add(\n",
    "    Embedding(\n",
    "        input_dim = vocab_size,\n",
    "        input_length = seq_length,\n",
    "        output_dim = seq_length\n",
    "    )\n",
    ")\n",
    "\n",
    "## https://keras.io/layers/recurrent/\n",
    "model.add(LSTM(200, return_sequences=True))\n",
    "model.add(LSTM(200))\n",
    "\n",
    "## https://keras.io/layers/core/\n",
    "model.add(Dense(200, activation='relu'))\n",
    "model.add(Dense(vocab_size, activation='softmax'))\n",
    "\n",
    "print(model.summary())"
   ]
  },
  {
   "cell_type": "code",
   "execution_count": null,
   "metadata": {},
   "outputs": [],
   "source": []
  },
  {
   "cell_type": "code",
   "execution_count": 24,
   "metadata": {},
   "outputs": [
    {
     "name": "stderr",
     "output_type": "stream",
     "text": [
      "/usr/local/lib/python3.7/site-packages/tensorflow_core/python/framework/indexed_slices.py:433: UserWarning: Converting sparse IndexedSlices to a dense Tensor of unknown shape. This may consume a large amount of memory.\n",
      "  \"Converting sparse IndexedSlices to a dense Tensor of unknown shape. \"\n"
     ]
    },
    {
     "name": "stdout",
     "output_type": "stream",
     "text": [
      "Epoch 1/100\n",
      "35442/35442 [==============================] - 25s 696us/step - loss: 6.8649 - accuracy: 0.0473\n",
      "Epoch 2/100\n",
      "35442/35442 [==============================] - 23s 653us/step - loss: 6.5386 - accuracy: 0.0493\n",
      "Epoch 3/100\n",
      "35442/35442 [==============================] - 23s 640us/step - loss: 6.4423 - accuracy: 0.0496\n",
      "Epoch 4/100\n",
      "35442/35442 [==============================] - 23s 663us/step - loss: 6.3477 - accuracy: 0.0510\n",
      "Epoch 5/100\n",
      "35442/35442 [==============================] - 24s 681us/step - loss: 6.2038 - accuracy: 0.0642\n",
      "Epoch 6/100\n",
      "35442/35442 [==============================] - 23s 660us/step - loss: 6.0046 - accuracy: 0.0779\n",
      "Epoch 7/100\n",
      "35442/35442 [==============================] - 23s 647us/step - loss: 5.8481 - accuracy: 0.0867\n",
      "Epoch 8/100\n",
      "35442/35442 [==============================] - 24s 668us/step - loss: 5.7283 - accuracy: 0.0937\n",
      "Epoch 9/100\n",
      "35442/35442 [==============================] - 22s 613us/step - loss: 5.6163 - accuracy: 0.1008\n",
      "Epoch 10/100\n",
      "35442/35442 [==============================] - 23s 637us/step - loss: 5.4993 - accuracy: 0.1069\n",
      "Epoch 11/100\n",
      "35442/35442 [==============================] - 22s 627us/step - loss: 5.3801 - accuracy: 0.1156\n",
      "Epoch 12/100\n",
      "35442/35442 [==============================] - 23s 637us/step - loss: 5.2688 - accuracy: 0.1195\n",
      "Epoch 13/100\n",
      "35442/35442 [==============================] - 21s 605us/step - loss: 5.1525 - accuracy: 0.1271\n",
      "Epoch 14/100\n",
      "35442/35442 [==============================] - 22s 609us/step - loss: 5.0313 - accuracy: 0.1332\n",
      "Epoch 15/100\n",
      "35442/35442 [==============================] - 22s 609us/step - loss: 4.9110 - accuracy: 0.1395\n",
      "Epoch 16/100\n",
      "35442/35442 [==============================] - 22s 635us/step - loss: 4.7859 - accuracy: 0.1466\n",
      "Epoch 17/100\n",
      "35442/35442 [==============================] - 22s 633us/step - loss: 4.6573 - accuracy: 0.1561\n",
      "Epoch 18/100\n",
      "35442/35442 [==============================] - 22s 619us/step - loss: 4.5307 - accuracy: 0.1635\n",
      "Epoch 19/100\n",
      "35442/35442 [==============================] - 23s 652us/step - loss: 4.4004 - accuracy: 0.1725\n",
      "Epoch 20/100\n",
      "35442/35442 [==============================] - 24s 687us/step - loss: 4.2677 - accuracy: 0.1822\n",
      "Epoch 21/100\n",
      "35442/35442 [==============================] - 22s 618us/step - loss: 4.1579 - accuracy: 0.1912\n",
      "Epoch 22/100\n",
      "35442/35442 [==============================] - 22s 634us/step - loss: 4.0149 - accuracy: 0.2085\n",
      "Epoch 23/100\n",
      "35442/35442 [==============================] - 23s 638us/step - loss: 3.9008 - accuracy: 0.2178\n",
      "Epoch 24/100\n",
      "35442/35442 [==============================] - 23s 656us/step - loss: 3.7865 - accuracy: 0.2312\n",
      "Epoch 25/100\n",
      "35442/35442 [==============================] - 22s 622us/step - loss: 3.6751 - accuracy: 0.2454\n",
      "Epoch 26/100\n",
      "35442/35442 [==============================] - 23s 645us/step - loss: 3.5569 - accuracy: 0.2624\n",
      "Epoch 27/100\n",
      "35442/35442 [==============================] - 22s 632us/step - loss: 3.4529 - accuracy: 0.2764\n",
      "Epoch 28/100\n",
      "35442/35442 [==============================] - 22s 624us/step - loss: 3.3499 - accuracy: 0.2892\n",
      "Epoch 29/100\n",
      "35442/35442 [==============================] - 22s 617us/step - loss: 3.2408 - accuracy: 0.3075\n",
      "Epoch 30/100\n",
      "35442/35442 [==============================] - 22s 622us/step - loss: 3.1319 - accuracy: 0.3250\n",
      "Epoch 31/100\n",
      "35442/35442 [==============================] - 24s 670us/step - loss: 3.0344 - accuracy: 0.3395\n",
      "Epoch 32/100\n",
      "35442/35442 [==============================] - 22s 616us/step - loss: 2.9317 - accuracy: 0.3571\n",
      "Epoch 33/100\n",
      "35442/35442 [==============================] - 22s 626us/step - loss: 2.8503 - accuracy: 0.3718\n",
      "Epoch 34/100\n",
      "35442/35442 [==============================] - 22s 617us/step - loss: 2.7523 - accuracy: 0.3881\n",
      "Epoch 35/100\n",
      "35442/35442 [==============================] - 23s 659us/step - loss: 2.6576 - accuracy: 0.4046\n",
      "Epoch 36/100\n",
      "35442/35442 [==============================] - 23s 647us/step - loss: 2.5666 - accuracy: 0.4259\n",
      "Epoch 37/100\n",
      "35442/35442 [==============================] - 22s 626us/step - loss: 2.4867 - accuracy: 0.4383\n",
      "Epoch 38/100\n",
      "35442/35442 [==============================] - 23s 639us/step - loss: 2.4143 - accuracy: 0.4514\n",
      "Epoch 39/100\n",
      "35442/35442 [==============================] - 24s 667us/step - loss: 2.3266 - accuracy: 0.4694\n",
      "Epoch 40/100\n",
      "35442/35442 [==============================] - 24s 681us/step - loss: 2.2587 - accuracy: 0.4825\n",
      "Epoch 41/100\n",
      "35442/35442 [==============================] - 24s 676us/step - loss: 2.1855 - accuracy: 0.4973\n",
      "Epoch 42/100\n",
      "35442/35442 [==============================] - 24s 680us/step - loss: 2.1224 - accuracy: 0.5073\n",
      "Epoch 43/100\n",
      "35442/35442 [==============================] - 24s 675us/step - loss: 2.0617 - accuracy: 0.5220\n",
      "Epoch 44/100\n",
      "35442/35442 [==============================] - 23s 640us/step - loss: 1.9918 - accuracy: 0.5316\n",
      "Epoch 45/100\n",
      "35442/35442 [==============================] - 22s 608us/step - loss: 1.9291 - accuracy: 0.5468\n",
      "Epoch 46/100\n",
      "35442/35442 [==============================] - 22s 626us/step - loss: 1.8736 - accuracy: 0.5602\n",
      "Epoch 47/100\n",
      "35442/35442 [==============================] - 21s 602us/step - loss: 1.8094 - accuracy: 0.5711\n",
      "Epoch 48/100\n",
      "35442/35442 [==============================] - 21s 593us/step - loss: 1.7568 - accuracy: 0.5831\n",
      "Epoch 49/100\n",
      "35442/35442 [==============================] - 21s 593us/step - loss: 1.7019 - accuracy: 0.5943\n",
      "Epoch 50/100\n",
      "35442/35442 [==============================] - 21s 599us/step - loss: 1.6581 - accuracy: 0.6043\n",
      "Epoch 51/100\n",
      "35442/35442 [==============================] - 21s 599us/step - loss: 1.5927 - accuracy: 0.6210\n",
      "Epoch 52/100\n",
      "35442/35442 [==============================] - 21s 600us/step - loss: 1.5522 - accuracy: 0.6267\n",
      "Epoch 53/100\n",
      "35442/35442 [==============================] - 21s 604us/step - loss: 1.5129 - accuracy: 0.6331\n",
      "Epoch 54/100\n",
      "35442/35442 [==============================] - 21s 602us/step - loss: 1.4324 - accuracy: 0.6563\n",
      "Epoch 55/100\n",
      "35442/35442 [==============================] - 21s 600us/step - loss: 1.3861 - accuracy: 0.6666\n",
      "Epoch 56/100\n",
      "35442/35442 [==============================] - 21s 597us/step - loss: 1.3411 - accuracy: 0.6753\n",
      "Epoch 57/100\n",
      "35442/35442 [==============================] - 21s 602us/step - loss: 1.2993 - accuracy: 0.6841\n",
      "Epoch 58/100\n",
      "35442/35442 [==============================] - 22s 607us/step - loss: 1.2696 - accuracy: 0.6892\n",
      "Epoch 59/100\n",
      "35442/35442 [==============================] - 22s 634us/step - loss: 1.2087 - accuracy: 0.7056\n",
      "Epoch 60/100\n",
      "35442/35442 [==============================] - 24s 689us/step - loss: 1.1636 - accuracy: 0.7169\n",
      "Epoch 61/100\n",
      "35442/35442 [==============================] - 28s 787us/step - loss: 1.1225 - accuracy: 0.7263\n",
      "Epoch 62/100\n",
      "35442/35442 [==============================] - 25s 710us/step - loss: 1.0799 - accuracy: 0.7370\n",
      "Epoch 63/100\n",
      "35442/35442 [==============================] - 24s 676us/step - loss: 1.0488 - accuracy: 0.7431\n",
      "Epoch 64/100\n",
      "35442/35442 [==============================] - 25s 710us/step - loss: 1.0045 - accuracy: 0.7557\n",
      "Epoch 65/100\n",
      "35442/35442 [==============================] - 25s 703us/step - loss: 0.9676 - accuracy: 0.7631\n",
      "Epoch 66/100\n",
      "35442/35442 [==============================] - 23s 648us/step - loss: 0.9360 - accuracy: 0.7677\n",
      "Epoch 67/100\n",
      "35442/35442 [==============================] - 23s 654us/step - loss: 0.8910 - accuracy: 0.7805\n",
      "Epoch 68/100\n",
      "35442/35442 [==============================] - 24s 673us/step - loss: 0.8556 - accuracy: 0.7902\n",
      "Epoch 69/100\n",
      "35442/35442 [==============================] - 23s 652us/step - loss: 0.8392 - accuracy: 0.7928\n",
      "Epoch 70/100\n",
      "35442/35442 [==============================] - 24s 670us/step - loss: 0.7841 - accuracy: 0.8071\n",
      "Epoch 71/100\n",
      "35442/35442 [==============================] - 24s 673us/step - loss: 0.7498 - accuracy: 0.8158\n",
      "Epoch 72/100\n",
      "35442/35442 [==============================] - 23s 642us/step - loss: 0.7356 - accuracy: 0.8193\n",
      "Epoch 73/100\n",
      "35442/35442 [==============================] - 23s 644us/step - loss: 0.7100 - accuracy: 0.8252\n",
      "Epoch 74/100\n",
      "35442/35442 [==============================] - 24s 681us/step - loss: 0.6741 - accuracy: 0.8342\n",
      "Epoch 75/100\n",
      "35442/35442 [==============================] - 26s 723us/step - loss: 0.6369 - accuracy: 0.8443\n",
      "Epoch 76/100\n",
      "35442/35442 [==============================] - 24s 675us/step - loss: 0.6036 - accuracy: 0.8532\n",
      "Epoch 77/100\n",
      "35442/35442 [==============================] - 25s 696us/step - loss: 0.5888 - accuracy: 0.8566\n",
      "Epoch 78/100\n",
      "35442/35442 [==============================] - 23s 652us/step - loss: 0.5581 - accuracy: 0.8637\n",
      "Epoch 79/100\n",
      "35442/35442 [==============================] - 24s 687us/step - loss: 0.5329 - accuracy: 0.8716\n",
      "Epoch 80/100\n",
      "35442/35442 [==============================] - 27s 751us/step - loss: 0.4937 - accuracy: 0.8812\n",
      "Epoch 81/100\n",
      "35442/35442 [==============================] - 22s 631us/step - loss: 0.4684 - accuracy: 0.8893\n",
      "Epoch 82/100\n",
      "35442/35442 [==============================] - 22s 618us/step - loss: 0.4403 - accuracy: 0.8968\n",
      "Epoch 83/100\n",
      "35442/35442 [==============================] - 23s 641us/step - loss: 0.4478 - accuracy: 0.8926\n",
      "Epoch 84/100\n",
      "35442/35442 [==============================] - 23s 648us/step - loss: 0.4805 - accuracy: 0.8804\n",
      "Epoch 85/100\n",
      "35442/35442 [==============================] - 23s 656us/step - loss: 0.4384 - accuracy: 0.8939\n",
      "Epoch 86/100\n",
      "35442/35442 [==============================] - 24s 667us/step - loss: 0.3855 - accuracy: 0.9096\n",
      "Epoch 87/100\n",
      "35442/35442 [==============================] - 26s 725us/step - loss: 0.3332 - accuracy: 0.9255\n",
      "Epoch 88/100\n",
      "35442/35442 [==============================] - 25s 698us/step - loss: 0.3073 - accuracy: 0.9332\n",
      "Epoch 89/100\n",
      "35442/35442 [==============================] - 24s 688us/step - loss: 0.3035 - accuracy: 0.9335\n",
      "Epoch 90/100\n",
      "35442/35442 [==============================] - 23s 656us/step - loss: 0.2977 - accuracy: 0.9334\n",
      "Epoch 91/100\n",
      "35442/35442 [==============================] - 24s 664us/step - loss: 0.2914 - accuracy: 0.9339\n",
      "Epoch 92/100\n",
      "35442/35442 [==============================] - 23s 639us/step - loss: 0.3157 - accuracy: 0.9243\n",
      "Epoch 93/100\n",
      "35442/35442 [==============================] - 23s 646us/step - loss: 0.3738 - accuracy: 0.9030\n",
      "Epoch 94/100\n",
      "35442/35442 [==============================] - 23s 654us/step - loss: 0.3171 - accuracy: 0.9221\n",
      "Epoch 95/100\n",
      "35442/35442 [==============================] - 23s 658us/step - loss: 0.2344 - accuracy: 0.9473\n",
      "Epoch 96/100\n",
      "35442/35442 [==============================] - 23s 639us/step - loss: 0.1728 - accuracy: 0.9685\n",
      "Epoch 97/100\n",
      "35442/35442 [==============================] - 27s 752us/step - loss: 0.1612 - accuracy: 0.9719\n",
      "Epoch 98/100\n",
      "35442/35442 [==============================] - 24s 668us/step - loss: 0.1431 - accuracy: 0.9769\n",
      "Epoch 99/100\n",
      "35442/35442 [==============================] - 24s 677us/step - loss: 0.1283 - accuracy: 0.9795\n",
      "Epoch 100/100\n",
      "35442/35442 [==============================] - 22s 621us/step - loss: 0.1408 - accuracy: 0.9753\n"
     ]
    },
    {
     "data": {
      "text/plain": [
       "<keras.callbacks.callbacks.History at 0x19f0965c0>"
      ]
     },
     "execution_count": 24,
     "metadata": {},
     "output_type": "execute_result"
    }
   ],
   "source": [
    "# compile model\n",
    "model.compile(\n",
    "    loss='categorical_crossentropy',\n",
    "    optimizer='adam',\n",
    "    metrics=['accuracy']\n",
    ")\n",
    "\n",
    "# fit model\n",
    "model.fit(\n",
    "    X_keras,\n",
    "    y_keras,\n",
    "    batch_size = 150,\n",
    "    epochs = 100\n",
    ")"
   ]
  },
  {
   "cell_type": "code",
   "execution_count": null,
   "metadata": {},
   "outputs": [],
   "source": []
  },
  {
   "cell_type": "code",
   "execution_count": 25,
   "metadata": {},
   "outputs": [
    {
     "name": "stdout",
     "output_type": "stream",
     "text": [
      "accuracy# 0.9707691669464111 loss# 0.15577725378882082\n"
     ]
    }
   ],
   "source": [
    "loss, accuracy = model.evaluate(X_keras, y_keras, verbose=0)\n",
    "\n",
    "print('accuracy#', accuracy, 'loss#', loss)"
   ]
  },
  {
   "cell_type": "code",
   "execution_count": null,
   "metadata": {},
   "outputs": [],
   "source": []
  },
  {
   "cell_type": "code",
   "execution_count": 26,
   "metadata": {},
   "outputs": [],
   "source": [
    "def produce_sentence(model, seed, iterations = 5):\n",
    "    limit = len(seed)\n",
    "    \n",
    "    sentence = seed.copy()\n",
    "    for iteration in range(0, iterations):\n",
    "        X_new = np.array([sentence[iteration:]])\n",
    "        predicted_class = model.predict_classes(X_new).tolist()\n",
    "        sentence = np.append(sentence, predicted_class)\n",
    "        \n",
    "    return sentence"
   ]
  },
  {
   "cell_type": "code",
   "execution_count": null,
   "metadata": {},
   "outputs": [],
   "source": []
  },
  {
   "cell_type": "code",
   "execution_count": 27,
   "metadata": {},
   "outputs": [
    {
     "name": "stdout",
     "output_type": "stream",
     "text": [
      "['can', 'set', 'your', 'offer', 'as', 'a', 'percentage', 'of', 'the', 'current']\n",
      "\n",
      "market\n",
      "market\n"
     ]
    }
   ],
   "source": [
    "Xnew = np.array([ X_keras[3] ])\n",
    "predicted_class = model.predict_classes(Xnew).tolist()\n",
    "\n",
    "print([ indices_word[tk] for tk in X_keras[3] ])\n",
    "\n",
    "print()\n",
    "print(indices_word[predicted_class[0]])\n",
    "print(y_words[3])"
   ]
  },
  {
   "cell_type": "code",
   "execution_count": null,
   "metadata": {},
   "outputs": [],
   "source": []
  },
  {
   "cell_type": "code",
   "execution_count": 28,
   "metadata": {},
   "outputs": [
    {
     "data": {
      "text/plain": [
       "['increasing',\n",
       " 'price',\n",
       " 'attracts',\n",
       " 'people',\n",
       " 'to',\n",
       " 'siacoin',\n",
       " 'as',\n",
       " 'we',\n",
       " 'will',\n",
       " 'as',\n",
       " 'general',\n",
       " 'awareness',\n",
       " 'imagine',\n",
       " 'someone',\n",
       " 'correlating',\n",
       " 'siacoin',\n",
       " 'to',\n",
       " 'decentralized',\n",
       " 'cloud',\n",
       " 'storage']"
      ]
     },
     "execution_count": 28,
     "metadata": {},
     "output_type": "execute_result"
    }
   ],
   "source": [
    "index = np.random.randint(0, len(X_keras))\n",
    "seed_text = X_keras[index]\n",
    "sentence = produce_sentence(model, seed_text, 10)\n",
    "\n",
    "[ indices_word[tk] for tk in sentence ]"
   ]
  },
  {
   "cell_type": "code",
   "execution_count": null,
   "metadata": {},
   "outputs": [],
   "source": []
  },
  {
   "cell_type": "code",
   "execution_count": 29,
   "metadata": {},
   "outputs": [],
   "source": [
    "with open('../data/reddit/siacoin_vocab.json', 'w') as vocab_output:\n",
    "    vocab_output.write(json.dumps(vocab))"
   ]
  },
  {
   "cell_type": "code",
   "execution_count": null,
   "metadata": {},
   "outputs": [],
   "source": []
  },
  {
   "cell_type": "code",
   "execution_count": 30,
   "metadata": {},
   "outputs": [],
   "source": [
    "import os"
   ]
  },
  {
   "cell_type": "code",
   "execution_count": null,
   "metadata": {},
   "outputs": [],
   "source": []
  },
  {
   "cell_type": "code",
   "execution_count": 31,
   "metadata": {},
   "outputs": [],
   "source": [
    "if not os.path.exists('../data/reddit/models'):\n",
    "    os.mkdir('../data/reddit/models')\n",
    "\n",
    "model.save('../data/reddit/models/model.h5')"
   ]
  },
  {
   "cell_type": "code",
   "execution_count": null,
   "metadata": {},
   "outputs": [],
   "source": []
  }
 ],
 "metadata": {
  "kernelspec": {
   "display_name": "Python 3",
   "language": "python",
   "name": "python3"
  },
  "language_info": {
   "codemirror_mode": {
    "name": "ipython",
    "version": 3
   },
   "file_extension": ".py",
   "mimetype": "text/x-python",
   "name": "python",
   "nbconvert_exporter": "python",
   "pygments_lexer": "ipython3",
   "version": "3.7.3"
  }
 },
 "nbformat": 4,
 "nbformat_minor": 4
}
