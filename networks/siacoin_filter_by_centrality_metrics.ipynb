{
 "cells": [
  {
   "cell_type": "code",
   "execution_count": 1,
   "metadata": {},
   "outputs": [],
   "source": [
    "import json\n",
    "import datetime\n",
    "import numpy as np"
   ]
  },
  {
   "cell_type": "code",
   "execution_count": null,
   "metadata": {},
   "outputs": [],
   "source": []
  },
  {
   "cell_type": "code",
   "execution_count": 2,
   "metadata": {},
   "outputs": [],
   "source": [
    "from collections import defaultdict"
   ]
  },
  {
   "cell_type": "code",
   "execution_count": null,
   "metadata": {},
   "outputs": [],
   "source": []
  },
  {
   "cell_type": "code",
   "execution_count": 3,
   "metadata": {},
   "outputs": [],
   "source": [
    "edgelist_breakouts = {}\n",
    "\n",
    "with open('../data/reddit/siacoin_grouping_edgelists.json', 'r') as dataset_json:\n",
    "    edgelist_breakouts = json.loads(dataset_json.read())"
   ]
  },
  {
   "cell_type": "code",
   "execution_count": null,
   "metadata": {},
   "outputs": [],
   "source": []
  },
  {
   "cell_type": "code",
   "execution_count": 4,
   "metadata": {},
   "outputs": [],
   "source": [
    "def sorter(key):\n",
    "    parts = key.split('-')\n",
    "    \n",
    "    year = parts[0]\n",
    "    month = parts[1]\n",
    "    \n",
    "    if len(month) == 1:\n",
    "        month = f'0{month}'\n",
    "        \n",
    "    return f'{year}-{month}'"
   ]
  },
  {
   "cell_type": "code",
   "execution_count": null,
   "metadata": {},
   "outputs": [],
   "source": []
  },
  {
   "cell_type": "code",
   "execution_count": 5,
   "metadata": {},
   "outputs": [],
   "source": [
    "import networkx as nx"
   ]
  },
  {
   "cell_type": "code",
   "execution_count": null,
   "metadata": {},
   "outputs": [],
   "source": []
  },
  {
   "cell_type": "code",
   "execution_count": 6,
   "metadata": {},
   "outputs": [
    {
     "name": "stdout",
     "output_type": "stream",
     "text": [
      "started: @ 2020-04-23 07:51:19.574246\n",
      "completed: 2016-4 @ 2020-04-23 07:51:19.575393\n",
      "completed: 2016-5 @ 2020-04-23 07:51:19.612170\n",
      "completed: 2016-6 @ 2020-04-23 07:51:19.661741\n",
      "completed: 2016-7 @ 2020-04-23 07:51:19.682079\n",
      "completed: 2016-8 @ 2020-04-23 07:51:19.692331\n",
      "completed: 2016-9 @ 2020-04-23 07:51:19.704108\n",
      "completed: 2016-10 @ 2020-04-23 07:51:19.710180\n",
      "completed: 2016-11 @ 2020-04-23 07:51:19.712171\n",
      "completed: 2016-12 @ 2020-04-23 07:51:19.716879\n",
      "completed: 2017-1 @ 2020-04-23 07:51:19.726371\n",
      "completed: 2017-2 @ 2020-04-23 07:51:19.731721\n",
      "completed: 2017-3 @ 2020-04-23 07:51:19.745208\n",
      "completed: 2017-4 @ 2020-04-23 07:51:19.762078\n",
      "completed: 2017-5 @ 2020-04-23 07:51:23.455393\n",
      "completed: 2017-6 @ 2020-04-23 07:52:17.149714\n",
      "completed: 2017-7 @ 2020-04-23 07:52:27.640429\n",
      "completed: 2017-8 @ 2020-04-23 07:52:32.658964\n",
      "completed: 2017-9 @ 2020-04-23 07:52:33.859108\n",
      "completed: 2017-10 @ 2020-04-23 07:52:34.896001\n",
      "completed: 2017-11 @ 2020-04-23 07:52:35.826684\n",
      "completed: 2017-12 @ 2020-04-23 07:52:45.027647\n",
      "completed: 2018-1 @ 2020-04-23 07:54:19.208418\n",
      "completed: 2018-2 @ 2020-04-23 07:54:23.756329\n",
      "completed: 2018-3 @ 2020-04-23 07:54:25.127617\n",
      "completed: 2018-4 @ 2020-04-23 07:54:26.218084\n",
      "completed: 2018-5 @ 2020-04-23 07:54:27.128386\n",
      "completed: 2018-6 @ 2020-04-23 07:54:27.626864\n",
      "completed: 2018-7 @ 2020-04-23 07:54:27.875425\n",
      "completed: 2018-8 @ 2020-04-23 07:54:29.555794\n",
      "completed: 2018-9 @ 2020-04-23 07:54:29.646736\n",
      "completed: 2018-10 @ 2020-04-23 07:54:31.174915\n",
      "completed: 2018-11 @ 2020-04-23 07:54:31.382822\n",
      "completed: 2018-12 @ 2020-04-23 07:54:31.472929\n",
      "completed: 2019-1 @ 2020-04-23 07:54:31.571396\n",
      "completed: 2019-2 @ 2020-04-23 07:54:31.603671\n",
      "completed: 2019-3 @ 2020-04-23 07:54:31.640899\n",
      "completed: 2019-4 @ 2020-04-23 07:54:31.718569\n",
      "completed: 2019-5 @ 2020-04-23 07:54:31.813076\n",
      "completed: 2019-6 @ 2020-04-23 07:54:31.913407\n",
      "completed: 2019-7 @ 2020-04-23 07:54:32.161542\n",
      "completed: 2019-8 @ 2020-04-23 07:54:32.217783\n",
      "completed: 2019-9 @ 2020-04-23 07:54:32.268433\n",
      "completed: 2019-10 @ 2020-04-23 07:54:32.339299\n",
      "completed: 2019-11 @ 2020-04-23 07:54:32.348875\n",
      "completed: 2019-12 @ 2020-04-23 07:54:32.395948\n",
      "completed: 2020-1 @ 2020-04-23 07:54:32.439967\n",
      "completed: 2020-2 @ 2020-04-23 07:54:32.542698\n",
      "completed: 2020-3 @ 2020-04-23 07:54:32.576003\n",
      "completed: 2020-4 @ 2020-04-23 07:54:32.593543\n"
     ]
    }
   ],
   "source": [
    "def metric_sorter(items):\n",
    "    def metric_sorter(tup):\n",
    "        return tup[1]\n",
    "\n",
    "    return sorted(\n",
    "        list(items),\n",
    "        key = metric_sorter,\n",
    "        reverse = True\n",
    "    )\n",
    "\n",
    "metrics = {}\n",
    "\n",
    "print('started:', '@', datetime.datetime.now())\n",
    "\n",
    "keys = list(edgelist_breakouts.keys())\n",
    "for i, key in enumerate(sorted(keys, key = sorter)):\n",
    "    \n",
    "    G = nx.Graph()\n",
    "\n",
    "    iteractions = edgelist_breakouts[key]\n",
    "    for interaction in iteractions:\n",
    "        n1 = interaction[0]\n",
    "        n2 = interaction[1]\n",
    "\n",
    "        if G.has_edge(n1, n2):\n",
    "            G[n1][n2]['weight'] += 1\n",
    "        else:\n",
    "            G.add_edge(n1, n2, weight = 1)\n",
    "            \n",
    "    degree = nx.degree_centrality(G).items()\n",
    "    closeness = nx.closeness_centrality(G).items()\n",
    "    betweenness = nx.betweenness_centrality(G).items()\n",
    "    pagerank = nx.pagerank(G).items()\n",
    "         \n",
    "    metrics[key] = {\n",
    "        'Degree': metric_sorter(degree),\n",
    "        'Closeness': metric_sorter(closeness),\n",
    "        'Betweenness': metric_sorter(betweenness),\n",
    "        'Pagerank': metric_sorter(pagerank)\n",
    "    }\n",
    "    \n",
    "    print('completed:', key, '@', datetime.datetime.now())"
   ]
  },
  {
   "cell_type": "code",
   "execution_count": null,
   "metadata": {},
   "outputs": [],
   "source": []
  },
  {
   "cell_type": "code",
   "execution_count": 7,
   "metadata": {},
   "outputs": [],
   "source": [
    "with open('../data/reddit/siacoin_centrality_metrics.json', 'w') as metrics_json:\n",
    "    metrics_json.write(json.dumps(metrics))"
   ]
  },
  {
   "cell_type": "code",
   "execution_count": null,
   "metadata": {},
   "outputs": [],
   "source": []
  },
  {
   "cell_type": "code",
   "execution_count": 8,
   "metadata": {},
   "outputs": [
    {
     "data": {
      "text/plain": [
       "{'Degree': [('in-cred-u-lous', 0.8076923076923077),\n",
       "  ('Fornax96', 0.15384615384615385),\n",
       "  ('Coinosphere', 0.15384615384615385),\n",
       "  ('Toboxx', 0.15384615384615385),\n",
       "  ('cmbartley', 0.15384615384615385),\n",
       "  ('humbrie', 0.15384615384615385),\n",
       "  ('doodlemania', 0.11538461538461539),\n",
       "  ('jacobvschmidt', 0.11538461538461539),\n",
       "  ('Taek42', 0.11538461538461539),\n",
       "  ('bSalm0n', 0.07692307692307693),\n",
       "  ('wolfchange', 0.07692307692307693),\n",
       "  ('Lorenzo000', 0.07692307692307693),\n",
       "  ('morantis2015', 0.07692307692307693),\n",
       "  ('mtlynch', 0.07692307692307693),\n",
       "  ('doctorWarm', 0.07692307692307693),\n",
       "  ('walloon5', 0.07692307692307693),\n",
       "  ('darkFunction', 0.07692307692307693),\n",
       "  ('phalacee', 0.07692307692307693),\n",
       "  ('thederpill', 0.07692307692307693),\n",
       "  ('0nlyNow', 0.038461538461538464),\n",
       "  ('coolfarmer', 0.038461538461538464),\n",
       "  ('mesquka', 0.038461538461538464),\n",
       "  ('Nachbar90', 0.038461538461538464),\n",
       "  ('Wredditing', 0.038461538461538464),\n",
       "  ('fengtaobuaa', 0.038461538461538464),\n",
       "  ('rogvirtualmoney', 0.038461538461538464),\n",
       "  ('bintytinty', 0.038461538461538464)],\n",
       " 'Closeness': [('in-cred-u-lous', 0.8093645484949833),\n",
       "  ('Fornax96', 0.4540337711069419),\n",
       "  ('Coinosphere', 0.4540337711069419),\n",
       "  ('Toboxx', 0.4540337711069419),\n",
       "  ('cmbartley', 0.4540337711069419),\n",
       "  ('humbrie', 0.4540337711069419),\n",
       "  ('Taek42', 0.4540337711069419),\n",
       "  ('doodlemania', 0.44322344322344326),\n",
       "  ('jacobvschmidt', 0.44322344322344326),\n",
       "  ('thederpill', 0.44322344322344326),\n",
       "  ('bSalm0n', 0.4329159212880143),\n",
       "  ('wolfchange', 0.4329159212880143),\n",
       "  ('Lorenzo000', 0.4329159212880143),\n",
       "  ('morantis2015', 0.4329159212880143),\n",
       "  ('mtlynch', 0.4329159212880143),\n",
       "  ('doctorWarm', 0.4329159212880143),\n",
       "  ('walloon5', 0.4329159212880143),\n",
       "  ('darkFunction', 0.4329159212880143),\n",
       "  ('phalacee', 0.4329159212880143),\n",
       "  ('mesquka', 0.4230769230769231),\n",
       "  ('Nachbar90', 0.4230769230769231),\n",
       "  ('Wredditing', 0.4230769230769231),\n",
       "  ('bintytinty', 0.3002481389578164),\n",
       "  ('0nlyNow', 0.038461538461538464),\n",
       "  ('coolfarmer', 0.038461538461538464),\n",
       "  ('fengtaobuaa', 0.038461538461538464),\n",
       "  ('rogvirtualmoney', 0.038461538461538464)],\n",
       " 'Betweenness': [('in-cred-u-lous', 0.6553846153846153),\n",
       "  ('Taek42', 0.06461538461538462),\n",
       "  ('Fornax96', 0.003076923076923077),\n",
       "  ('0nlyNow', 0.0),\n",
       "  ('coolfarmer', 0.0),\n",
       "  ('bSalm0n', 0.0),\n",
       "  ('wolfchange', 0.0),\n",
       "  ('Lorenzo000', 0.0),\n",
       "  ('Coinosphere', 0.0),\n",
       "  ('Toboxx', 0.0),\n",
       "  ('cmbartley', 0.0),\n",
       "  ('humbrie', 0.0),\n",
       "  ('morantis2015', 0.0),\n",
       "  ('mtlynch', 0.0),\n",
       "  ('doctorWarm', 0.0),\n",
       "  ('walloon5', 0.0),\n",
       "  ('mesquka', 0.0),\n",
       "  ('darkFunction', 0.0),\n",
       "  ('phalacee', 0.0),\n",
       "  ('doodlemania', 0.0),\n",
       "  ('jacobvschmidt', 0.0),\n",
       "  ('Nachbar90', 0.0),\n",
       "  ('thederpill', 0.0),\n",
       "  ('Wredditing', 0.0),\n",
       "  ('fengtaobuaa', 0.0),\n",
       "  ('rogvirtualmoney', 0.0),\n",
       "  ('bintytinty', 0.0)],\n",
       " 'Pagerank': [('in-cred-u-lous', 0.2307313986975921),\n",
       "  ('Fornax96', 0.06281696140078533),\n",
       "  ('jacobvschmidt', 0.04539165010459335),\n",
       "  ('Taek42', 0.038022246757666314),\n",
       "  ('Coinosphere', 0.03786623043483804),\n",
       "  ('Toboxx', 0.03786623043483804),\n",
       "  ('cmbartley', 0.03786623043483804),\n",
       "  ('humbrie', 0.03786623043483804),\n",
       "  ('0nlyNow', 0.037037037037037035),\n",
       "  ('coolfarmer', 0.037037037037037035),\n",
       "  ('fengtaobuaa', 0.037037037037037035),\n",
       "  ('rogvirtualmoney', 0.037037037037037035),\n",
       "  ('doodlemania', 0.029071706179876613),\n",
       "  ('thederpill', 0.024499277488114892),\n",
       "  ('bSalm0n', 0.023873642140425366),\n",
       "  ('morantis2015', 0.023873642140425366),\n",
       "  ('doctorWarm', 0.023873642140425366),\n",
       "  ('darkFunction', 0.023873642140425366),\n",
       "  ('wolfchange', 0.023873642140425363),\n",
       "  ('mtlynch', 0.023873642140425363),\n",
       "  ('walloon5', 0.023873642140425363),\n",
       "  ('phalacee', 0.023873642140425363),\n",
       "  ('Lorenzo000', 0.021355103226018222),\n",
       "  ('bintytinty', 0.016327524998280718),\n",
       "  ('mesquka', 0.01372730804538973),\n",
       "  ('Nachbar90', 0.01372730804538973),\n",
       "  ('Wredditing', 0.01372730804538973)]}"
      ]
     },
     "execution_count": 8,
     "metadata": {},
     "output_type": "execute_result"
    }
   ],
   "source": [
    "metrics['2016-10']"
   ]
  },
  {
   "cell_type": "code",
   "execution_count": null,
   "metadata": {},
   "outputs": [],
   "source": []
  },
  {
   "cell_type": "code",
   "execution_count": 9,
   "metadata": {},
   "outputs": [
    {
     "data": {
      "text/plain": [
       "defaultdict(<function __main__.filter_metrics.<locals>.<lambda>()>,\n",
       "            {'in-cred-u-lous': True,\n",
       "             'Fornax96': True,\n",
       "             'Coinosphere': True,\n",
       "             'Toboxx': True,\n",
       "             'cmbartley': True,\n",
       "             'humbrie': True,\n",
       "             'doodlemania': True,\n",
       "             'jacobvschmidt': True,\n",
       "             'Taek42': True,\n",
       "             'bSalm0n': True,\n",
       "             'thederpill': True,\n",
       "             '0nlyNow': True,\n",
       "             'coolfarmer': True,\n",
       "             'wolfchange': True,\n",
       "             'Lorenzo000': True})"
      ]
     },
     "execution_count": 9,
     "metadata": {},
     "output_type": "execute_result"
    }
   ],
   "source": [
    "def filter_metrics(metrics_by_month, take = 10):\n",
    "    potential_filter = defaultdict(lambda: False)\n",
    "    for key in metrics_by_month.keys():\n",
    "        authors = (\n",
    "            author\n",
    "            for author, metric\n",
    "            in metrics_by_month[key][:take]\n",
    "        )\n",
    "        for author in authors:\n",
    "            potential_filter[author] = True\n",
    "\n",
    "    return potential_filter\n",
    "\n",
    "potential_filter = filter_metrics(metrics['2016-10'])\n",
    "potential_filter"
   ]
  },
  {
   "cell_type": "code",
   "execution_count": null,
   "metadata": {},
   "outputs": [],
   "source": []
  },
  {
   "cell_type": "code",
   "execution_count": 10,
   "metadata": {},
   "outputs": [],
   "source": [
    "assert potential_filter['in-cred-u-lous'] ## true"
   ]
  },
  {
   "cell_type": "code",
   "execution_count": 11,
   "metadata": {},
   "outputs": [],
   "source": [
    "assert not potential_filter['bob_dole'] ## false"
   ]
  },
  {
   "cell_type": "code",
   "execution_count": null,
   "metadata": {},
   "outputs": [],
   "source": []
  }
 ],
 "metadata": {
  "kernelspec": {
   "display_name": "Python 3",
   "language": "python",
   "name": "python3"
  },
  "language_info": {
   "codemirror_mode": {
    "name": "ipython",
    "version": 3
   },
   "file_extension": ".py",
   "mimetype": "text/x-python",
   "name": "python",
   "nbconvert_exporter": "python",
   "pygments_lexer": "ipython3",
   "version": "3.7.3"
  }
 },
 "nbformat": 4,
 "nbformat_minor": 4
}
