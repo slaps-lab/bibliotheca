{
 "cells": [
  {
   "cell_type": "code",
   "execution_count": 1,
   "metadata": {},
   "outputs": [],
   "source": [
    "import json"
   ]
  },
  {
   "cell_type": "code",
   "execution_count": null,
   "metadata": {
    "jupyter": {
     "source_hidden": true
    }
   },
   "outputs": [],
   "source": []
  },
  {
   "cell_type": "code",
   "execution_count": 2,
   "metadata": {},
   "outputs": [
    {
     "name": "stdout",
     "output_type": "stream",
     "text": [
      "vocab# 5260\n"
     ]
    }
   ],
   "source": [
    "vocab = []\n",
    "\n",
    "with open('../data/reddit/models/siacoin_vocab_lg.json', 'r') as vocab_input:\n",
    "    vocab = json.loads(vocab_input.read())\n",
    "    \n",
    "vocab_size = len(vocab)\n",
    "word_indices = dict((tk, i) for i, tk in enumerate(vocab))\n",
    "indices_word = dict((i, tk) for i, tk in enumerate(vocab))\n",
    "\n",
    "print('vocab#', vocab_size)"
   ]
  },
  {
   "cell_type": "code",
   "execution_count": null,
   "metadata": {
    "jupyter": {
     "source_hidden": true
    }
   },
   "outputs": [],
   "source": []
  },
  {
   "cell_type": "code",
   "execution_count": 3,
   "metadata": {},
   "outputs": [
    {
     "name": "stderr",
     "output_type": "stream",
     "text": [
      "Using TensorFlow backend.\n"
     ]
    }
   ],
   "source": [
    "from keras.models import load_model"
   ]
  },
  {
   "cell_type": "code",
   "execution_count": null,
   "metadata": {
    "jupyter": {
     "source_hidden": true
    }
   },
   "outputs": [],
   "source": []
  },
  {
   "cell_type": "code",
   "execution_count": 4,
   "metadata": {},
   "outputs": [
    {
     "name": "stderr",
     "output_type": "stream",
     "text": [
      "/usr/local/lib/python3.7/site-packages/tensorflow_core/python/framework/indexed_slices.py:433: UserWarning: Converting sparse IndexedSlices to a dense Tensor of unknown shape. This may consume a large amount of memory.\n",
      "  \"Converting sparse IndexedSlices to a dense Tensor of unknown shape. \"\n"
     ]
    }
   ],
   "source": [
    "siacoin_model = load_model('../data/reddit/models/siacoin_model_lg.h5')"
   ]
  },
  {
   "cell_type": "code",
   "execution_count": null,
   "metadata": {
    "jupyter": {
     "source_hidden": true
    }
   },
   "outputs": [],
   "source": []
  },
  {
   "cell_type": "code",
   "execution_count": 5,
   "metadata": {},
   "outputs": [],
   "source": [
    "def produce_sentence(model, seed, iterations = 5):\n",
    "    limit = len(seed)\n",
    "    \n",
    "    sentence = seed.copy()\n",
    "    for iteration in range(0, iterations):\n",
    "        X_new = np.array([sentence[iteration:]])\n",
    "        predicted_class = model.predict_classes(X_new).tolist()\n",
    "        sentence = np.append(sentence, predicted_class)\n",
    "        \n",
    "    return sentence"
   ]
  },
  {
   "cell_type": "code",
   "execution_count": null,
   "metadata": {
    "jupyter": {
     "source_hidden": true
    }
   },
   "outputs": [],
   "source": []
  },
  {
   "cell_type": "code",
   "execution_count": 6,
   "metadata": {},
   "outputs": [],
   "source": [
    "import numpy as np\n",
    "import pandas as pd"
   ]
  },
  {
   "cell_type": "code",
   "execution_count": null,
   "metadata": {
    "jupyter": {
     "source_hidden": true
    }
   },
   "outputs": [],
   "source": []
  },
  {
   "cell_type": "code",
   "execution_count": 7,
   "metadata": {},
   "outputs": [
    {
     "data": {
      "text/html": [
       "<div>\n",
       "<style scoped>\n",
       "    .dataframe tbody tr th:only-of-type {\n",
       "        vertical-align: middle;\n",
       "    }\n",
       "\n",
       "    .dataframe tbody tr th {\n",
       "        vertical-align: top;\n",
       "    }\n",
       "\n",
       "    .dataframe thead th {\n",
       "        text-align: right;\n",
       "    }\n",
       "</style>\n",
       "<table border=\"1\" class=\"dataframe\">\n",
       "  <thead>\n",
       "    <tr style=\"text-align: right;\">\n",
       "      <th></th>\n",
       "      <th>Unnamed: 0</th>\n",
       "      <th>0</th>\n",
       "      <th>1</th>\n",
       "      <th>2</th>\n",
       "      <th>3</th>\n",
       "      <th>4</th>\n",
       "      <th>5</th>\n",
       "      <th>6</th>\n",
       "      <th>7</th>\n",
       "      <th>8</th>\n",
       "      <th>9</th>\n",
       "    </tr>\n",
       "  </thead>\n",
       "  <tbody>\n",
       "    <tr>\n",
       "      <th>0</th>\n",
       "      <td>0</td>\n",
       "      <td>they</td>\n",
       "      <td>charge</td>\n",
       "      <td>ridiculous</td>\n",
       "      <td>amounts</td>\n",
       "      <td>to</td>\n",
       "      <td>make</td>\n",
       "      <td>small</td>\n",
       "      <td>changes</td>\n",
       "      <td>to</td>\n",
       "      <td>the</td>\n",
       "    </tr>\n",
       "    <tr>\n",
       "      <th>1</th>\n",
       "      <td>1</td>\n",
       "      <td>charge</td>\n",
       "      <td>ridiculous</td>\n",
       "      <td>amounts</td>\n",
       "      <td>to</td>\n",
       "      <td>make</td>\n",
       "      <td>small</td>\n",
       "      <td>changes</td>\n",
       "      <td>to</td>\n",
       "      <td>the</td>\n",
       "      <td>code</td>\n",
       "    </tr>\n",
       "  </tbody>\n",
       "</table>\n",
       "</div>"
      ],
      "text/plain": [
       "   Unnamed: 0       0           1           2        3     4      5        6  \\\n",
       "0           0    they      charge  ridiculous  amounts    to   make    small   \n",
       "1           1  charge  ridiculous     amounts       to  make  small  changes   \n",
       "\n",
       "         7    8     9  \n",
       "0  changes   to   the  \n",
       "1       to  the  code  "
      ]
     },
     "execution_count": 7,
     "metadata": {},
     "output_type": "execute_result"
    }
   ],
   "source": [
    "df = pd.read_csv('../data/reddit/siacoin_words_dataset_lg.csv').drop(columns=['target'])\n",
    "\n",
    "df.head(n = 2)"
   ]
  },
  {
   "cell_type": "code",
   "execution_count": null,
   "metadata": {
    "jupyter": {
     "source_hidden": true
    }
   },
   "outputs": [],
   "source": []
  },
  {
   "cell_type": "code",
   "execution_count": 8,
   "metadata": {},
   "outputs": [],
   "source": [
    "def get_line(df):\n",
    "    seed_index = np.random.randint(\n",
    "        0,\n",
    "        len(df.index)\n",
    "    )\n",
    "    \n",
    "    seed_text = df.iloc[seed_index].tolist()[1:11]\n",
    "    return np.array([ word_indices[term] for term in seed_text ])"
   ]
  },
  {
   "cell_type": "code",
   "execution_count": null,
   "metadata": {
    "jupyter": {
     "source_hidden": true
    }
   },
   "outputs": [],
   "source": []
  },
  {
   "cell_type": "code",
   "execution_count": 9,
   "metadata": {},
   "outputs": [
    {
     "data": {
      "text/plain": [
       "['not',\n",
       " 'trying',\n",
       " 'to',\n",
       " 'sound',\n",
       " 'harsh',\n",
       " 'but',\n",
       " 'a',\n",
       " 'billion',\n",
       " 'dollar',\n",
       " 'market',\n",
       " 'pressreleases',\n",
       " 'cloud',\n",
       " 'for',\n",
       " 'siacoin',\n",
       " 'would',\n",
       " 'mean',\n",
       " 'that',\n",
       " 'siacoin',\n",
       " 'owns',\n",
       " 'more',\n",
       " 'than',\n",
       " 'of',\n",
       " 'the',\n",
       " 'deposit',\n",
       " 'you',\n",
       " 'got',\n",
       " 'out',\n",
       " 'that',\n",
       " 'they',\n",
       " 'are',\n",
       " 'mtlynch',\n",
       " 'and',\n",
       " 'after',\n",
       " 'after',\n",
       " 'people',\n",
       " 'consider',\n",
       " 'like',\n",
       " 'you',\n",
       " 'are',\n",
       " 'reward',\n",
       " 'and',\n",
       " 'have',\n",
       " 'next',\n",
       " 'more',\n",
       " 'addresses',\n",
       " 'after',\n",
       " 'the',\n",
       " 'fork',\n",
       " 'in',\n",
       " 'the',\n",
       " 'nebulous',\n",
       " 'hunt',\n",
       " 'i',\n",
       " 'are',\n",
       " 'missing',\n",
       " 'that',\n",
       " 'i',\n",
       " 'am',\n",
       " 'trying',\n",
       " 'to',\n",
       " 'use',\n",
       " 'and',\n",
       " 'switching',\n",
       " 'out',\n",
       " 'with',\n",
       " 'tons',\n",
       " 'of',\n",
       " 'data',\n",
       " 'til',\n",
       " 'better',\n",
       " 'if',\n",
       " 'you',\n",
       " 'have',\n",
       " 'what',\n",
       " 'they',\n",
       " 'this',\n",
       " 'was',\n",
       " 'not',\n",
       " 'happening',\n",
       " 'with',\n",
       " 'the',\n",
       " 'asic',\n",
       " 'out',\n",
       " 'of',\n",
       " 'the',\n",
       " 'gui',\n",
       " 'software',\n",
       " 'being',\n",
       " 'deployed',\n",
       " 'help',\n",
       " 'players',\n",
       " 'of',\n",
       " 'ftc',\n",
       " 'but',\n",
       " 'i',\n",
       " 'am',\n",
       " 'just',\n",
       " 'value',\n",
       " 'it',\n",
       " 'was',\n",
       " 'some',\n",
       " 'part',\n",
       " 'of',\n",
       " 'the',\n",
       " 'dev',\n",
       " 'browser',\n",
       " 'perhaps',\n",
       " 'it',\n",
       " 'is',\n",
       " 'definitely',\n",
       " 'that',\n",
       " 'apparently',\n",
       " 'america',\n",
       " 'in',\n",
       " 'many',\n",
       " 'of',\n",
       " 'the',\n",
       " 'changes',\n",
       " 'working',\n",
       " 'team',\n",
       " 'developing',\n",
       " 'right',\n",
       " 'hosts',\n",
       " 'can',\n",
       " 'not',\n",
       " 'remove',\n",
       " 'under',\n",
       " 'there',\n",
       " 'the',\n",
       " 'situation',\n",
       " 'because',\n",
       " 'i',\n",
       " 'have',\n",
       " 'already',\n",
       " 'geeking',\n",
       " 'in',\n",
       " 'the',\n",
       " 'contracts',\n",
       " 'by',\n",
       " 'that',\n",
       " 'that',\n",
       " 'is',\n",
       " 'a',\n",
       " 'significantly',\n",
       " 'after',\n",
       " 'for',\n",
       " 'extending',\n",
       " 'so',\n",
       " 'the',\n",
       " 'node',\n",
       " 'does',\n",
       " 'not',\n",
       " 'care',\n",
       " 'to',\n",
       " 'remove',\n",
       " 'screen',\n",
       " 'or',\n",
       " 'spend',\n",
       " 'a',\n",
       " 'coin',\n",
       " 'with',\n",
       " 'a',\n",
       " 'failed',\n",
       " 'client',\n",
       " 'sometimes',\n",
       " 'in',\n",
       " 'noticed',\n",
       " 'the',\n",
       " 'siacoin',\n",
       " 'wallet',\n",
       " 'it',\n",
       " 'on',\n",
       " 'a',\n",
       " 'single',\n",
       " 'one',\n",
       " 'of',\n",
       " 'siacoin',\n",
       " 'and',\n",
       " 'does',\n",
       " 'not',\n",
       " 'really',\n",
       " 'but',\n",
       " 'if',\n",
       " 'you',\n",
       " 'are',\n",
       " 'really',\n",
       " 'but',\n",
       " 'if',\n",
       " 'you',\n",
       " 'tried',\n",
       " 'to',\n",
       " 'the',\n",
       " 'process',\n",
       " 'and',\n",
       " 'medium',\n",
       " 'a',\n",
       " 'computer',\n",
       " 'should',\n",
       " 'actually',\n",
       " 'affect',\n",
       " 'it',\n",
       " 'easy',\n",
       " 'of',\n",
       " 'the',\n",
       " 'strenght',\n",
       " 'of',\n",
       " 'the',\n",
       " 'death',\n",
       " 'they',\n",
       " 'get']"
      ]
     },
     "execution_count": 9,
     "metadata": {},
     "output_type": "execute_result"
    }
   ],
   "source": [
    "Xnew = get_line(df)\n",
    "sentence_of_indices = produce_sentence(siacoin_model, get_line(df), 200)\n",
    "\n",
    "[ indices_word[index] for index in sentence_of_indices ] "
   ]
  },
  {
   "cell_type": "code",
   "execution_count": null,
   "metadata": {
    "jupyter": {
     "source_hidden": true
    }
   },
   "outputs": [],
   "source": []
  },
  {
   "cell_type": "code",
   "execution_count": 10,
   "metadata": {},
   "outputs": [
    {
     "data": {
      "text/plain": [
       "['in',\n",
       " 'the',\n",
       " 'software',\n",
       " 'ultimately',\n",
       " 'decide',\n",
       " 'growing',\n",
       " 'started',\n",
       " 'downloads',\n",
       " 'api',\n",
       " 'price',\n",
       " 'considering',\n",
       " 'their',\n",
       " 'money',\n",
       " 'in',\n",
       " 'no',\n",
       " 'mined',\n",
       " 'need',\n",
       " 'to',\n",
       " 'each',\n",
       " 'company',\n",
       " 'to',\n",
       " 'the',\n",
       " 'siacoin',\n",
       " 'aspect',\n",
       " 'to']"
      ]
     },
     "execution_count": 10,
     "metadata": {},
     "output_type": "execute_result"
    }
   ],
   "source": [
    "def build_random_seed(vocab):\n",
    "    m = len(vocab)\n",
    "    return np.random.randint(0, m, 10)\n",
    "    \n",
    "[\n",
    "    indices_word[index]\n",
    "    for index\n",
    "    in produce_sentence(siacoin_model, build_random_seed(vocab), 25)[10:]\n",
    "] "
   ]
  },
  {
   "cell_type": "code",
   "execution_count": null,
   "metadata": {},
   "outputs": [],
   "source": []
  }
 ],
 "metadata": {
  "kernelspec": {
   "display_name": "Python 3",
   "language": "python",
   "name": "python3"
  },
  "language_info": {
   "codemirror_mode": {
    "name": "ipython",
    "version": 3
   },
   "file_extension": ".py",
   "mimetype": "text/x-python",
   "name": "python",
   "nbconvert_exporter": "python",
   "pygments_lexer": "ipython3",
   "version": "3.7.3"
  }
 },
 "nbformat": 4,
 "nbformat_minor": 4
}
