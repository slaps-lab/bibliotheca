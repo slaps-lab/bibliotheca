{
 "cells": [
  {
   "cell_type": "code",
   "execution_count": 1,
   "metadata": {},
   "outputs": [],
   "source": [
    "import re\n",
    "import requests\n",
    "from bs4 import BeautifulSoup"
   ]
  },
  {
   "cell_type": "code",
   "execution_count": null,
   "metadata": {},
   "outputs": [],
   "source": []
  },
  {
   "cell_type": "code",
   "execution_count": 2,
   "metadata": {},
   "outputs": [],
   "source": [
    "def get_content(url):\n",
    "    response = requests.get(url)\n",
    "    assert response.status_code == 200\n",
    "    \n",
    "    return response.text"
   ]
  },
  {
   "cell_type": "code",
   "execution_count": null,
   "metadata": {},
   "outputs": [],
   "source": []
  },
  {
   "cell_type": "code",
   "execution_count": 3,
   "metadata": {},
   "outputs": [
    {
     "name": "stdout",
     "output_type": "stream",
     "text": [
      "On Christmas Eve, with only one day left to find a Christmas gift for her husband James Dillingham Young, Della sells her hair for $20 to a nearby hairdresser named Madame Sofronie. She eventually finds a platinum pocket watch chain for Jim's watch for $21 and was satisfied that she found the perfect gift for Jim. \n",
      "\n",
      "Later that night Della admits to Jim that she sold her hair to buy him his present. Jim gives Della her present – a set of combs, useless now that her hair is shortened. Della then shows Jim the chain she bought for him, to which Jim says he sold his watch to get the money to buy her ornamental combs. Although Jim and Della are now left with gifts that neither one can use, they realize how far they are willing to go to show their love for each other, and how priceless their love really is. \n",
      "\n",
      "The story ends with the narrator comparing the sacrificial gifts of love with those of the Biblical Magi.\n",
      "\n"
     ]
    }
   ],
   "source": [
    "## print out plot,\n",
    "wiki = 'https://en.wikipedia.org/wiki/The_Gift_of_the_Magi'\n",
    "soup = BeautifulSoup(get_content(wiki))\n",
    "\n",
    "elements = soup.find(\"span\", {\"id\": 'Plot'}).parent.parent.find_all(['p','h2'])\n",
    "\n",
    "take_plot = False\n",
    "plot = []\n",
    "for element in elements:\n",
    "    if take_plot and element.name == 'p':\n",
    "        plot.append(element.text)\n",
    "    \n",
    "    if element.find(\"span\", {\"id\": 'Plot'}):\n",
    "        take_plot = True\n",
    "    \n",
    "print('\\n'.join(plot))"
   ]
  },
  {
   "cell_type": "code",
   "execution_count": null,
   "metadata": {},
   "outputs": [],
   "source": []
  },
  {
   "cell_type": "code",
   "execution_count": 4,
   "metadata": {},
   "outputs": [],
   "source": [
    "url = 'http://www.gutenberg.org/cache/epub/7256/pg7256.txt'\n",
    "content = get_content(url)"
   ]
  },
  {
   "cell_type": "code",
   "execution_count": 5,
   "metadata": {},
   "outputs": [],
   "source": [
    "def clean_gift_of_the_magi(content):\n",
    "    start_of_ebook = '*** START OF THIS PROJECT GUTENBERG EBOOK THE GIFT OF THE MAGI ***'\n",
    "    end_of_ebook = 'End of the Project Gutenberg EBook of The Gift of the Magi, by O. Henry'\n",
    "    \n",
    "    start_of_ebook_index = content.index(start_of_ebook) + len(start_of_ebook)\n",
    "    end_of_ebook_index = content.index(end_of_ebook)\n",
    "\n",
    "    text = content[start_of_ebook_index:end_of_ebook_index]\n",
    "\n",
    "    start_of_author = 'by O. Henry'\n",
    "    start_of_author_index = text.index(start_of_author) + len(start_of_author)\n",
    "    \n",
    "    text = text[start_of_author_index:]\n",
    "    \n",
    "    return re.sub(r'[\\r\\n]+', ' ', text, flags=re.MULTILINE).strip()\n",
    "\n",
    "text = clean_gift_of_the_magi(content)"
   ]
  },
  {
   "cell_type": "code",
   "execution_count": null,
   "metadata": {},
   "outputs": [],
   "source": []
  },
  {
   "cell_type": "code",
   "execution_count": 6,
   "metadata": {},
   "outputs": [],
   "source": [
    "import spacy\n",
    "from collections import defaultdict"
   ]
  },
  {
   "cell_type": "code",
   "execution_count": null,
   "metadata": {},
   "outputs": [],
   "source": []
  },
  {
   "cell_type": "code",
   "execution_count": 7,
   "metadata": {},
   "outputs": [],
   "source": [
    "nlp = spacy.load('en_core_web_md')"
   ]
  },
  {
   "cell_type": "code",
   "execution_count": 8,
   "metadata": {},
   "outputs": [],
   "source": [
    "doc = nlp(text)"
   ]
  },
  {
   "cell_type": "code",
   "execution_count": null,
   "metadata": {},
   "outputs": [],
   "source": []
  },
  {
   "cell_type": "code",
   "execution_count": 10,
   "metadata": {},
   "outputs": [],
   "source": [
    "plus_or_minus_limit = 75\n",
    "\n",
    "characters = defaultdict(int)\n",
    "for ent in doc.ents:\n",
    "    \n",
    "    if ent.label_ == 'PERSON':\n",
    "        person = ent.text.strip()\n",
    "        person_lower = person.lower()\n",
    "        if not 'mme' in person_lower:\n",
    "            characters[person] += 1"
   ]
  },
  {
   "cell_type": "code",
   "execution_count": null,
   "metadata": {},
   "outputs": [],
   "source": []
  },
  {
   "cell_type": "code",
   "execution_count": 11,
   "metadata": {},
   "outputs": [
    {
     "data": {
      "text/plain": [
       "defaultdict(int,\n",
       "            {'Della': 18,\n",
       "             'James Dillingham Young': 2,\n",
       "             'Jim': 26,\n",
       "             'Sheba': 1,\n",
       "             'Solomon': 1,\n",
       "             'Sofronie': 2,\n",
       "             'Madame': 3,\n",
       "             'Babe': 1})"
      ]
     },
     "execution_count": 11,
     "metadata": {},
     "output_type": "execute_result"
    }
   ],
   "source": [
    "characters"
   ]
  },
  {
   "cell_type": "code",
   "execution_count": null,
   "metadata": {},
   "outputs": [],
   "source": []
  },
  {
   "cell_type": "code",
   "execution_count": 12,
   "metadata": {},
   "outputs": [],
   "source": [
    "from afinn import Afinn"
   ]
  },
  {
   "cell_type": "code",
   "execution_count": null,
   "metadata": {},
   "outputs": [],
   "source": []
  },
  {
   "cell_type": "code",
   "execution_count": 14,
   "metadata": {},
   "outputs": [],
   "source": [
    "interactions = []\n",
    "\n",
    "afinn = Afinn('en')\n",
    "\n",
    "tokens = doc\n",
    "for index, token in enumerate(tokens):\n",
    "    if characters[token.text] > 0:\n",
    "        start = index - 15\n",
    "        end = index + 15\n",
    "        \n",
    "        close_to = tokens[start:end]\n",
    "        for close in close_to:\n",
    "            if close.text != token.text and characters[close.text] > 0:\n",
    "                sentence = ' '.join([ tk.text for tk in close_to ])\n",
    "                interactions.append(\n",
    "                    (token.text, close.text, afinn.score(sentence))\n",
    "                )"
   ]
  },
  {
   "cell_type": "code",
   "execution_count": null,
   "metadata": {},
   "outputs": [],
   "source": []
  },
  {
   "cell_type": "code",
   "execution_count": 15,
   "metadata": {},
   "outputs": [
    {
     "data": {
      "text/plain": [
       "[('Della', 'Sheba', 0.0),\n",
       " ('Sheba', 'Della', 0.0),\n",
       " ('Sheba', 'Della', 0.0),\n",
       " ('Della', 'Sheba', 0.0),\n",
       " ('Jim', 'Solomon', 2.0),\n",
       " ('Sofronie', 'Della', -1.0),\n",
       " ('Della', 'Sofronie', 0.0),\n",
       " ('Della', 'Madame', 0.0),\n",
       " ('Madame', 'Della', 0.0),\n",
       " ('Madame', 'Sofronie', 0.0),\n",
       " ('Sofronie', 'Madame', 0.0),\n",
       " ('Sofronie', 'Della', 0.0),\n",
       " ('Della', 'Sofronie', 0.0),\n",
       " ('Della', 'Madame', 0.0),\n",
       " ('Madame', 'Della', 0.0),\n",
       " ('Jim', 'Della', 0.0),\n",
       " ('Della', 'Jim', 0.0),\n",
       " ('Della', 'Jim', 0.0),\n",
       " ('Jim', 'Della', -2.0),\n",
       " ('Jim', 'Della', 0.0),\n",
       " ('Della', 'Jim', 0.0),\n",
       " ('Jim', 'Della', 2.0),\n",
       " ('Della', 'Jim', 0.0)]"
      ]
     },
     "execution_count": 15,
     "metadata": {},
     "output_type": "execute_result"
    }
   ],
   "source": [
    "interactions"
   ]
  },
  {
   "cell_type": "code",
   "execution_count": null,
   "metadata": {},
   "outputs": [],
   "source": []
  },
  {
   "cell_type": "code",
   "execution_count": 16,
   "metadata": {},
   "outputs": [],
   "source": [
    "import networkx as nx\n",
    "import matplotlib.pyplot as plt"
   ]
  },
  {
   "cell_type": "code",
   "execution_count": null,
   "metadata": {},
   "outputs": [],
   "source": []
  },
  {
   "cell_type": "code",
   "execution_count": 17,
   "metadata": {},
   "outputs": [],
   "source": [
    "G = nx.Graph()"
   ]
  },
  {
   "cell_type": "code",
   "execution_count": null,
   "metadata": {},
   "outputs": [],
   "source": []
  },
  {
   "cell_type": "code",
   "execution_count": 18,
   "metadata": {},
   "outputs": [],
   "source": [
    "for interaction in interactions:\n",
    "    n1 = interaction[0]\n",
    "    n2 = interaction[1]\n",
    "    \n",
    "    if G.has_edge(n1, n2):\n",
    "        G[n1][n2]['weight'] += 1\n",
    "    else:\n",
    "        G.add_edge(n1, n2, weight = 1)"
   ]
  },
  {
   "cell_type": "code",
   "execution_count": null,
   "metadata": {},
   "outputs": [],
   "source": []
  },
  {
   "cell_type": "code",
   "execution_count": 19,
   "metadata": {},
   "outputs": [],
   "source": [
    "positions = nx.spring_layout(G)"
   ]
  },
  {
   "cell_type": "code",
   "execution_count": 20,
   "metadata": {},
   "outputs": [
    {
     "data": {
      "image/png": "[encoded data removed]",
      "text/plain": [
       "<Figure size 432x288 with 1 Axes>"
      ]
     },
     "metadata": {},
     "output_type": "display_data"
    }
   ],
   "source": [
    "nx.draw(G, pos = positions, node_color = 'lightblue', node_size = 3800)\n",
    "nx.draw_networkx_labels(\n",
    "    G,\n",
    "    pos = positions,\n",
    "    font_size = 11,\n",
    "    font_color = 'red',\n",
    "    font_weight = 'bold'\n",
    ")\n",
    "\n",
    "for node1, node2, edge_attr in G.edges(data=True):\n",
    "        width = edge_attr['weight']\n",
    "        edgelist = [(node1, node2)]\n",
    "        nx.draw_networkx_edges(\n",
    "            G,\n",
    "            positions,\n",
    "            edgelist = edgelist,\n",
    "            width = width\n",
    "        )"
   ]
  },
  {
   "cell_type": "code",
   "execution_count": null,
   "metadata": {},
   "outputs": [],
   "source": []
  },
  {
   "cell_type": "code",
   "execution_count": 21,
   "metadata": {},
   "outputs": [],
   "source": [
    "import pandas as pd"
   ]
  },
  {
   "cell_type": "code",
   "execution_count": null,
   "metadata": {},
   "outputs": [],
   "source": []
  },
  {
   "cell_type": "code",
   "execution_count": 22,
   "metadata": {},
   "outputs": [
    {
     "data": {
      "text/html": [
       "<div>\n",
       "<style scoped>\n",
       "    .dataframe tbody tr th:only-of-type {\n",
       "        vertical-align: middle;\n",
       "    }\n",
       "\n",
       "    .dataframe tbody tr th {\n",
       "        vertical-align: top;\n",
       "    }\n",
       "\n",
       "    .dataframe thead th {\n",
       "        text-align: right;\n",
       "    }\n",
       "</style>\n",
       "<table border=\"1\" class=\"dataframe\">\n",
       "  <thead>\n",
       "    <tr style=\"text-align: right;\">\n",
       "      <th></th>\n",
       "      <th>Degree</th>\n",
       "      <th>Closeness</th>\n",
       "      <th>Betweenness</th>\n",
       "      <th>Pagerank</th>\n",
       "    </tr>\n",
       "  </thead>\n",
       "  <tbody>\n",
       "    <tr>\n",
       "      <th>Della</th>\n",
       "      <td>0.8</td>\n",
       "      <td>0.833333</td>\n",
       "      <td>0.8</td>\n",
       "      <td>0.402731</td>\n",
       "    </tr>\n",
       "    <tr>\n",
       "      <th>Jim</th>\n",
       "      <td>0.4</td>\n",
       "      <td>0.625000</td>\n",
       "      <td>0.4</td>\n",
       "      <td>0.199166</td>\n",
       "    </tr>\n",
       "    <tr>\n",
       "      <th>Madame</th>\n",
       "      <td>0.4</td>\n",
       "      <td>0.555556</td>\n",
       "      <td>0.0</td>\n",
       "      <td>0.130415</td>\n",
       "    </tr>\n",
       "    <tr>\n",
       "      <th>Sheba</th>\n",
       "      <td>0.2</td>\n",
       "      <td>0.500000</td>\n",
       "      <td>0.0</td>\n",
       "      <td>0.093464</td>\n",
       "    </tr>\n",
       "    <tr>\n",
       "      <th>Sofronie</th>\n",
       "      <td>0.4</td>\n",
       "      <td>0.555556</td>\n",
       "      <td>0.0</td>\n",
       "      <td>0.130415</td>\n",
       "    </tr>\n",
       "    <tr>\n",
       "      <th>Solomon</th>\n",
       "      <td>0.2</td>\n",
       "      <td>0.416667</td>\n",
       "      <td>0.0</td>\n",
       "      <td>0.043810</td>\n",
       "    </tr>\n",
       "  </tbody>\n",
       "</table>\n",
       "</div>"
      ],
      "text/plain": [
       "          Degree  Closeness  Betweenness  Pagerank\n",
       "Della        0.8   0.833333          0.8  0.402731\n",
       "Jim          0.4   0.625000          0.4  0.199166\n",
       "Madame       0.4   0.555556          0.0  0.130415\n",
       "Sheba        0.2   0.500000          0.0  0.093464\n",
       "Sofronie     0.4   0.555556          0.0  0.130415\n",
       "Solomon      0.2   0.416667          0.0  0.043810"
      ]
     },
     "execution_count": 22,
     "metadata": {},
     "output_type": "execute_result"
    }
   ],
   "source": [
    "data = {\n",
    "    'Degree': nx.degree_centrality(G),\n",
    "    'Closeness': nx.closeness_centrality(G),\n",
    "    'Betweenness': nx.betweenness_centrality(G),\n",
    "    'Pagerank': nx.pagerank(G)\n",
    "}\n",
    "\n",
    "pd.DataFrame(data)"
   ]
  },
  {
   "cell_type": "code",
   "execution_count": null,
   "metadata": {},
   "outputs": [],
   "source": []
  }
 ],
 "metadata": {
  "kernelspec": {
   "display_name": "Python 3",
   "language": "python",
   "name": "python3"
  },
  "language_info": {
   "codemirror_mode": {
    "name": "ipython",
    "version": 3
   },
   "file_extension": ".py",
   "mimetype": "text/x-python",
   "name": "python",
   "nbconvert_exporter": "python",
   "pygments_lexer": "ipython3",
   "version": "3.7.3"
  }
 },
 "nbformat": 4,
 "nbformat_minor": 4
}
