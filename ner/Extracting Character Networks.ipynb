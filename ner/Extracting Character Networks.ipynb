{
 "cells": [
  {
   "cell_type": "code",
   "execution_count": 1,
   "metadata": {},
   "outputs": [],
   "source": [
    "import re\n",
    "import requests\n",
    "from bs4 import BeautifulSoup"
   ]
  },
  {
   "cell_type": "code",
   "execution_count": null,
   "metadata": {},
   "outputs": [],
   "source": []
  },
  {
   "cell_type": "code",
   "execution_count": 2,
   "metadata": {},
   "outputs": [],
   "source": [
    "def get_content(url):\n",
    "    response = requests.get(url)\n",
    "    assert response.status_code == 200\n",
    "    \n",
    "    return response.text"
   ]
  },
  {
   "cell_type": "code",
   "execution_count": null,
   "metadata": {},
   "outputs": [],
   "source": []
  },
  {
   "cell_type": "code",
   "execution_count": 3,
   "metadata": {},
   "outputs": [
    {
     "name": "stdout",
     "output_type": "stream",
     "text": [
      "On Christmas Eve, with only one day left to find a Christmas gift for her husband James Dillingham Young, Della sells her hair for $20 to a nearby hairdresser named Madame Sofronie. She eventually finds a platinum pocket watch chain for Jim's watch for $21 and was satisfied that she found the perfect gift for Jim. \n",
      "\n",
      "Later that night Della admits to Jim that she sold her hair to buy him his present. Jim gives Della her present – a set of combs, useless now that her hair is shortened. Della then shows Jim the chain she bought for him, to which Jim says he sold his watch to get the money to buy her ornamental combs. Although Jim and Della are now left with gifts that neither one can use, they realize how far they are willing to go to show their love for each other, and how priceless their love really is. \n",
      "\n",
      "The story ends with the narrator comparing the sacrificial gifts of love with those of the Biblical Magi.\n",
      "\n"
     ]
    }
   ],
   "source": [
    "## print out plot,\n",
    "wiki = 'https://en.wikipedia.org/wiki/The_Gift_of_the_Magi'\n",
    "soup = BeautifulSoup(get_content(wiki))\n",
    "\n",
    "elements = soup.find(\"span\", {\"id\": 'Plot'}).parent.parent.find_all(['p','h2'])\n",
    "\n",
    "take_plot = False\n",
    "plot = []\n",
    "for element in elements:\n",
    "    if take_plot and element.name == 'p':\n",
    "        plot.append(element.text)\n",
    "    \n",
    "    if element.find(\"span\", {\"id\": 'Plot'}):\n",
    "        take_plot = True\n",
    "    \n",
    "print('\\n'.join(plot))"
   ]
  },
  {
   "cell_type": "code",
   "execution_count": null,
   "metadata": {},
   "outputs": [],
   "source": []
  },
  {
   "cell_type": "code",
   "execution_count": 4,
   "metadata": {},
   "outputs": [],
   "source": [
    "url = 'http://www.gutenberg.org/cache/epub/7256/pg7256.txt'\n",
    "content = get_content(url)"
   ]
  },
  {
   "cell_type": "code",
   "execution_count": 5,
   "metadata": {},
   "outputs": [],
   "source": [
    "start_of_book_1 = '*** START OF THIS PROJECT GUTENBERG EBOOK THE GIFT OF THE MAGI ***'\n",
    "index = content.index(start_of_book_1) + len(start_of_book_1)\n",
    "\n",
    "text = content[index:]\n",
    "\n",
    "start_of_book_2 = 'by O. Henry'\n",
    "index = text.index(start_of_book_2) + len(start_of_book_2)\n",
    "\n",
    "text = text[index:]\n",
    "\n",
    "end_of_book_1 = 'End of the Project Gutenberg EBook of The Gift of the Magi, by O. Henry'\n",
    "index = text.index(end_of_book_1)\n",
    "\n",
    "text = text[:index]\n",
    "\n",
    "text = re.sub(r'[\\r\\n]+', ' ', text, flags=re.MULTILINE).strip()"
   ]
  },
  {
   "cell_type": "code",
   "execution_count": null,
   "metadata": {},
   "outputs": [],
   "source": []
  },
  {
   "cell_type": "code",
   "execution_count": 6,
   "metadata": {},
   "outputs": [],
   "source": [
    "import spacy\n",
    "from collections import defaultdict"
   ]
  },
  {
   "cell_type": "code",
   "execution_count": null,
   "metadata": {},
   "outputs": [],
   "source": []
  },
  {
   "cell_type": "code",
   "execution_count": 7,
   "metadata": {},
   "outputs": [],
   "source": [
    "nlp = spacy.load('en_core_web_md')"
   ]
  },
  {
   "cell_type": "code",
   "execution_count": 8,
   "metadata": {},
   "outputs": [],
   "source": [
    "doc = nlp(text)"
   ]
  },
  {
   "cell_type": "code",
   "execution_count": null,
   "metadata": {},
   "outputs": [],
   "source": []
  },
  {
   "cell_type": "code",
   "execution_count": 9,
   "metadata": {},
   "outputs": [],
   "source": [
    "## pull out characters,"
   ]
  },
  {
   "cell_type": "code",
   "execution_count": 10,
   "metadata": {},
   "outputs": [],
   "source": [
    "plus_or_minus_limit = 75\n",
    "\n",
    "lines = []\n",
    "characters = defaultdict(int)\n",
    "for ent in doc.ents:\n",
    "    \n",
    "    if ent.label_ == 'PERSON':\n",
    "        person = ent.text.strip()\n",
    "        person_lower = person.lower()\n",
    "        if not 'project' in person_lower and not 'mme' in person_lower:\n",
    "            characters[person] += 1\n",
    "            \n",
    "            start_char = ent.start_char - plus_or_minus_limit\n",
    "            end_char = ent.end_char + plus_or_minus_limit\n",
    "            \n",
    "            lines.append(text[start_char:end_char])"
   ]
  },
  {
   "cell_type": "code",
   "execution_count": null,
   "metadata": {},
   "outputs": [],
   "source": []
  },
  {
   "cell_type": "code",
   "execution_count": 11,
   "metadata": {},
   "outputs": [
    {
     "data": {
      "text/plain": [
       "defaultdict(int,\n",
       "            {'Della': 18,\n",
       "             'James Dillingham Young': 2,\n",
       "             'Jim': 26,\n",
       "             'Sheba': 1,\n",
       "             'Solomon': 1,\n",
       "             'Sofronie': 2,\n",
       "             'Madame': 3,\n",
       "             'Babe': 1})"
      ]
     },
     "execution_count": 11,
     "metadata": {},
     "output_type": "execute_result"
    }
   ],
   "source": [
    "characters"
   ]
  },
  {
   "cell_type": "code",
   "execution_count": null,
   "metadata": {},
   "outputs": [],
   "source": []
  },
  {
   "cell_type": "code",
   "execution_count": 12,
   "metadata": {},
   "outputs": [],
   "source": [
    "from afinn import Afinn"
   ]
  },
  {
   "cell_type": "code",
   "execution_count": 13,
   "metadata": {},
   "outputs": [],
   "source": [
    "afinn = Afinn()"
   ]
  },
  {
   "cell_type": "code",
   "execution_count": null,
   "metadata": {},
   "outputs": [],
   "source": []
  },
  {
   "cell_type": "code",
   "execution_count": 14,
   "metadata": {},
   "outputs": [],
   "source": [
    "interactions = []\n",
    "\n",
    "tokens = doc\n",
    "for index, token in enumerate(tokens):\n",
    "    if characters[token.text] > 0:\n",
    "        start = index - 15\n",
    "        end = index + 15\n",
    "        \n",
    "        close_to = tokens[start:end]\n",
    "        for close in close_to:\n",
    "            if close.text != token.text and characters[close.text] > 0:\n",
    "                interactions.append((token.text, close.text, afinn.score(' '.join([ tk.text for tk in close_to ]))))"
   ]
  },
  {
   "cell_type": "code",
   "execution_count": null,
   "metadata": {},
   "outputs": [],
   "source": []
  },
  {
   "cell_type": "code",
   "execution_count": 15,
   "metadata": {},
   "outputs": [
    {
     "data": {
      "text/plain": [
       "[('Della', 'Sheba', 0.0),\n",
       " ('Sheba', 'Della', 0.0),\n",
       " ('Sheba', 'Della', 0.0),\n",
       " ('Della', 'Sheba', 0.0),\n",
       " ('Jim', 'Solomon', 2.0),\n",
       " ('Sofronie', 'Della', -1.0),\n",
       " ('Della', 'Sofronie', 0.0),\n",
       " ('Della', 'Madame', 0.0),\n",
       " ('Madame', 'Della', 0.0),\n",
       " ('Madame', 'Sofronie', 0.0),\n",
       " ('Sofronie', 'Madame', 0.0),\n",
       " ('Sofronie', 'Della', 0.0),\n",
       " ('Della', 'Sofronie', 0.0),\n",
       " ('Della', 'Madame', 0.0),\n",
       " ('Madame', 'Della', 0.0),\n",
       " ('Jim', 'Della', 0.0),\n",
       " ('Della', 'Jim', 0.0),\n",
       " ('Della', 'Jim', 0.0),\n",
       " ('Jim', 'Della', -2.0),\n",
       " ('Jim', 'Della', 0.0),\n",
       " ('Della', 'Jim', 0.0),\n",
       " ('Jim', 'Della', 2.0),\n",
       " ('Della', 'Jim', 0.0)]"
      ]
     },
     "execution_count": 15,
     "metadata": {},
     "output_type": "execute_result"
    }
   ],
   "source": [
    "interactions"
   ]
  },
  {
   "cell_type": "code",
   "execution_count": null,
   "metadata": {},
   "outputs": [],
   "source": []
  },
  {
   "cell_type": "code",
   "execution_count": 16,
   "metadata": {},
   "outputs": [],
   "source": [
    "import networkx as nx\n",
    "import matplotlib.pyplot as plt"
   ]
  },
  {
   "cell_type": "code",
   "execution_count": null,
   "metadata": {},
   "outputs": [],
   "source": []
  },
  {
   "cell_type": "code",
   "execution_count": 17,
   "metadata": {},
   "outputs": [],
   "source": [
    "G = nx.Graph()"
   ]
  },
  {
   "cell_type": "code",
   "execution_count": null,
   "metadata": {},
   "outputs": [],
   "source": []
  },
  {
   "cell_type": "code",
   "execution_count": 18,
   "metadata": {},
   "outputs": [],
   "source": [
    "for interaction in interactions:\n",
    "    n1 = interaction[0]\n",
    "    n2 = interaction[1]\n",
    "    \n",
    "    sent = interaction[2]\n",
    "    \n",
    "    if G.has_edge(n1, n2):\n",
    "        G[n1][n2]['weight'] += 1\n",
    "    else:\n",
    "        G.add_edge(n1, n2, weight = 1)"
   ]
  },
  {
   "cell_type": "code",
   "execution_count": null,
   "metadata": {},
   "outputs": [],
   "source": []
  },
  {
   "cell_type": "code",
   "execution_count": 19,
   "metadata": {},
   "outputs": [],
   "source": [
    "positions = nx.spring_layout(G)"
   ]
  },
  {
   "cell_type": "code",
   "execution_count": 20,
   "metadata": {},
   "outputs": [
    {
     "data": {
      "image/png": "[encoded data removed]",
      "text/plain": [
       "<Figure size 432x288 with 1 Axes>"
      ]
     },
     "metadata": {},
     "output_type": "display_data"
    }
   ],
   "source": [
    "nx.draw(G, pos = positions, node_color = 'lightblue', node_size = 3800)\n",
    "nx.draw_networkx_labels(G, pos = positions, font_size = 11, font_color = 'red', font_weight = 'bold')\n",
    "\n",
    "for node1, node2, edge_attr in G.edges(data=True):\n",
    "        width = edge_attr['weight']\n",
    "        nx.draw_networkx_edges(G, positions, edgelist = [(node1, node2)], width = width)"
   ]
  },
  {
   "cell_type": "code",
   "execution_count": null,
   "metadata": {},
   "outputs": [],
   "source": []
  },
  {
   "cell_type": "code",
   "execution_count": null,
   "metadata": {},
   "outputs": [],
   "source": []
  }
 ],
 "metadata": {
  "kernelspec": {
   "display_name": "Python 3",
   "language": "python",
   "name": "python3"
  },
  "language_info": {
   "codemirror_mode": {
    "name": "ipython",
    "version": 3
   },
   "file_extension": ".py",
   "mimetype": "text/x-python",
   "name": "python",
   "nbconvert_exporter": "python",
   "pygments_lexer": "ipython3",
   "version": "3.7.3"
  }
 },
 "nbformat": 4,
 "nbformat_minor": 4
}
