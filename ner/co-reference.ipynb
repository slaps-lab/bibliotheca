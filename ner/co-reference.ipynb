{
 "cells": [
  {
   "cell_type": "code",
   "execution_count": 1,
   "metadata": {},
   "outputs": [
    {
     "data": {
      "text/html": [
       "\n",
       "<h1>co-reference</h1>\n",
       "\n",
       "<ol>\n",
       "    <li>spacy - https://github.com/huggingface/neuralcoref, seems good w/ anaphora.</li>\n",
       "    <li>wiki - https://en.wikipedia.org/wiki/Coreference\n",
       "</ol>\n"
      ],
      "text/plain": [
       "<IPython.core.display.HTML object>"
      ]
     },
     "metadata": {},
     "output_type": "display_data"
    }
   ],
   "source": [
    "%%html\n",
    "\n",
    "<h1>co-reference</h1>\n",
    "\n",
    "<ol>\n",
    "    <li>spacy - https://github.com/huggingface/neuralcoref, seems good w/ anaphora.</li>\n",
    "    <li>wiki - https://en.wikipedia.org/wiki/Coreference\n",
    "</ol>"
   ]
  },
  {
   "cell_type": "code",
   "execution_count": null,
   "metadata": {},
   "outputs": [],
   "source": []
  },
  {
   "cell_type": "code",
   "execution_count": 2,
   "metadata": {},
   "outputs": [],
   "source": [
    "import spacy\n",
    "import neuralcoref\n",
    "\n",
    "from spacy import displacy"
   ]
  },
  {
   "cell_type": "code",
   "execution_count": null,
   "metadata": {},
   "outputs": [],
   "source": []
  },
  {
   "cell_type": "code",
   "execution_count": 3,
   "metadata": {},
   "outputs": [
    {
     "data": {
      "text/plain": [
       "<spacy.lang.en.English at 0x129076da0>"
      ]
     },
     "execution_count": 3,
     "metadata": {},
     "output_type": "execute_result"
    }
   ],
   "source": [
    "nlp = spacy.load('en_core_web_sm')\n",
    "\n",
    "## add to pipeline,\n",
    "neuralcoref.add_to_pipe(nlp)"
   ]
  },
  {
   "cell_type": "code",
   "execution_count": null,
   "metadata": {},
   "outputs": [],
   "source": []
  },
  {
   "cell_type": "code",
   "execution_count": 4,
   "metadata": {},
   "outputs": [
    {
     "data": {
      "text/html": [
       "\n",
       "<h3>Anaphora</h3>\n",
       "\n",
       "<p>\"... expression that depends specifically upon an antecedent expression ...\"</p>\n"
      ],
      "text/plain": [
       "<IPython.core.display.HTML object>"
      ]
     },
     "metadata": {},
     "output_type": "display_data"
    }
   ],
   "source": [
    "%%html\n",
    "\n",
    "<h3>Anaphora</h3>\n",
    "\n",
    "<p>\"... expression that depends specifically upon an antecedent expression ...\"</p>"
   ]
  },
  {
   "cell_type": "code",
   "execution_count": 5,
   "metadata": {},
   "outputs": [
    {
     "name": "stdout",
     "output_type": "stream",
     "text": [
      "True\n",
      "[Carol and Bod: [Carol and Bod, They], a movie: [a movie, it]]\n",
      "[('PERSON', 'Bod')]\n",
      "\n",
      "\n",
      "Carol and Bod saw a movie together. Carol and Bod did not enjoy a movie.\n"
     ]
    }
   ],
   "source": [
    "doc = nlp(\"Carol and Bod saw a movie together. They did not enjoy it.\")\n",
    "\n",
    "print(doc._.has_coref)\n",
    "print(doc._.coref_clusters)\n",
    "print([(ent.label_, ent.text) for ent in doc.ents])\n",
    "print()\n",
    "print()\n",
    "\n",
    "## expect [Carol and Bob, they]\n",
    "print(doc._.coref_resolved)"
   ]
  },
  {
   "cell_type": "code",
   "execution_count": null,
   "metadata": {},
   "outputs": [],
   "source": []
  },
  {
   "cell_type": "code",
   "execution_count": 6,
   "metadata": {},
   "outputs": [
    {
     "data": {
      "text/html": [
       "\n",
       "<h3>Cataphora</h3>\n",
       "\n",
       "<p>\"... preceding expression, whose meaning is determined or specified by the later expression ...\"</p>\n"
      ],
      "text/plain": [
       "<IPython.core.display.HTML object>"
      ]
     },
     "metadata": {},
     "output_type": "display_data"
    }
   ],
   "source": [
    "%%html\n",
    "\n",
    "<h3>Cataphora</h3>\n",
    "\n",
    "<p>\"... preceding expression, whose meaning is determined or specified by the later expression ...\"</p>"
   ]
  },
  {
   "cell_type": "code",
   "execution_count": 7,
   "metadata": {},
   "outputs": [
    {
     "name": "stdout",
     "output_type": "stream",
     "text": [
      "False\n",
      "[]\n",
      "[('PERSON', 'Bob')]\n",
      "\n",
      "\n",
      "He was angry about the music, so Bob called the cops.\n"
     ]
    }
   ],
   "source": [
    "doc = nlp(\"He was angry about the music, so Bob called the cops.\")\n",
    "\n",
    "print(doc._.has_coref)\n",
    "print(doc._.coref_clusters)\n",
    "print([(ent.label_, ent.text) for ent in doc.ents])\n",
    "print()\n",
    "print()\n",
    "\n",
    "## expect [they, neighbors]\n",
    "print(doc._.coref_resolved)"
   ]
  },
  {
   "cell_type": "code",
   "execution_count": null,
   "metadata": {},
   "outputs": [],
   "source": []
  },
  {
   "cell_type": "code",
   "execution_count": 8,
   "metadata": {},
   "outputs": [
    {
     "data": {
      "text/html": [
       "\n",
       "<h3>Split antecedents</h3>\n",
       "\n",
       "<p>Anaphora / Cataphora refers to multiple.</p>\n"
      ],
      "text/plain": [
       "<IPython.core.display.HTML object>"
      ]
     },
     "metadata": {},
     "output_type": "display_data"
    }
   ],
   "source": [
    "%%html\n",
    "\n",
    "<h3>Split antecedents</h3>\n",
    "\n",
    "<p>Anaphora / Cataphora refers to multiple.</p>"
   ]
  },
  {
   "cell_type": "code",
   "execution_count": 9,
   "metadata": {},
   "outputs": [
    {
     "name": "stdout",
     "output_type": "stream",
     "text": [
      "True\n",
      "[the party: [the party, They]]\n",
      "[('PERSON', 'Bob')]\n",
      "\n",
      "\n",
      "Carol told Bob to attend the party. the party arrived together.\n"
     ]
    }
   ],
   "source": [
    "doc = nlp('Carol told Bob to attend the party. They arrived together.')\n",
    "\n",
    "print(doc._.has_coref)\n",
    "print(doc._.coref_clusters)\n",
    "print([(ent.label_, ent.text) for ent in doc.ents])\n",
    "print()\n",
    "print()\n",
    "\n",
    "## expect [carol and bob, they]\n",
    "print(doc._.coref_resolved)"
   ]
  },
  {
   "cell_type": "code",
   "execution_count": null,
   "metadata": {},
   "outputs": [],
   "source": []
  },
  {
   "cell_type": "code",
   "execution_count": 10,
   "metadata": {},
   "outputs": [
    {
     "data": {
      "text/html": [
       "\n",
       "<h3>Coreferring noun phrases</h3>\n",
       "\n",
       "<p>Coreferring noun phrases, whereby the second noun phrase is a predication.</p>\n"
      ],
      "text/plain": [
       "<IPython.core.display.HTML object>"
      ]
     },
     "metadata": {},
     "output_type": "display_data"
    }
   ],
   "source": [
    "%%html\n",
    "\n",
    "<h3>Coreferring noun phrases</h3>\n",
    "\n",
    "<p>Coreferring noun phrases, whereby the second noun phrase is a predication.</p>"
   ]
  },
  {
   "cell_type": "code",
   "execution_count": 11,
   "metadata": {},
   "outputs": [
    {
     "name": "stdout",
     "output_type": "stream",
     "text": [
      "True\n",
      "[The jerk: [The jerk, himself]]\n",
      "[]\n",
      "\n",
      "\n",
      "The project leader is refusing to help. The jerk thinks only of The jerk.\n"
     ]
    }
   ],
   "source": [
    "doc = nlp('The project leader is refusing to help. The jerk thinks only of himself.')\n",
    "\n",
    "print(doc._.has_coref)\n",
    "print(doc._.coref_clusters)\n",
    "print([(ent.label_, ent.text) for ent in doc.ents])\n",
    "print()\n",
    "print()\n",
    "\n",
    "## expect [the project leader, jerk]\n",
    "print(doc._.coref_resolved)"
   ]
  },
  {
   "cell_type": "code",
   "execution_count": null,
   "metadata": {},
   "outputs": [],
   "source": []
  }
 ],
 "metadata": {
  "kernelspec": {
   "display_name": "Python 3",
   "language": "python",
   "name": "python3"
  },
  "language_info": {
   "codemirror_mode": {
    "name": "ipython",
    "version": 3
   },
   "file_extension": ".py",
   "mimetype": "text/x-python",
   "name": "python",
   "nbconvert_exporter": "python",
   "pygments_lexer": "ipython3",
   "version": "3.7.3"
  }
 },
 "nbformat": 4,
 "nbformat_minor": 4
}
