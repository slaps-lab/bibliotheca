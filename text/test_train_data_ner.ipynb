{
 "cells": [
  {
   "cell_type": "code",
   "execution_count": 1,
   "metadata": {},
   "outputs": [],
   "source": [
    "import json"
   ]
  },
  {
   "cell_type": "code",
   "execution_count": null,
   "metadata": {},
   "outputs": [],
   "source": []
  },
  {
   "cell_type": "code",
   "execution_count": 2,
   "metadata": {},
   "outputs": [],
   "source": [
    "story_id = '13713188'\n",
    "\n",
    "## https://www.espn.com/nba/story/_/id/13713188/"
   ]
  },
  {
   "cell_type": "code",
   "execution_count": null,
   "metadata": {},
   "outputs": [],
   "source": []
  },
  {
   "cell_type": "code",
   "execution_count": 3,
   "metadata": {},
   "outputs": [],
   "source": [
    "train_data = []\n",
    "with open(f'../data/espn/nba/training/training_spacy_ner_{story_id}.json') as training_data_file:\n",
    "    train_data = json.loads(training_data_file.read())"
   ]
  },
  {
   "cell_type": "code",
   "execution_count": null,
   "metadata": {},
   "outputs": [],
   "source": []
  },
  {
   "cell_type": "code",
   "execution_count": 4,
   "metadata": {},
   "outputs": [
    {
     "name": "stdout",
     "output_type": "stream",
     "text": [
      "or months after he got home from the 2000 Sydney Olympics, Vince Carter tried to replicate the greatest dunk of all time -- one that had even the opposition cheering.\n",
      "\n",
      "Vince Carter - PERSON\n"
     ]
    }
   ],
   "source": [
    "for row in train_data:\n",
    "    \n",
    "    text, entities = row\n",
    "    annotations = entities['entities']\n",
    "    \n",
    "    print(text)\n",
    "    print()\n",
    "\n",
    "    for annotation in annotations:\n",
    "        label = annotation[0]\n",
    "        start = int(annotation[1])\n",
    "        end = int(annotation[2])\n",
    "\n",
    "        print(text[start: end], '-', label)\n",
    "        \n",
    "    break ### remove to view all,"
   ]
  },
  {
   "cell_type": "code",
   "execution_count": null,
   "metadata": {},
   "outputs": [],
   "source": []
  }
 ],
 "metadata": {
  "kernelspec": {
   "display_name": "Python 3",
   "language": "python",
   "name": "python3"
  },
  "language_info": {
   "codemirror_mode": {
    "name": "ipython",
    "version": 3
   },
   "file_extension": ".py",
   "mimetype": "text/x-python",
   "name": "python",
   "nbconvert_exporter": "python",
   "pygments_lexer": "ipython3",
   "version": "3.7.3"
  }
 },
 "nbformat": 4,
 "nbformat_minor": 4
}
