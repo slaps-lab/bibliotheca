{
 "cells": [
  {
   "cell_type": "code",
   "execution_count": 1,
   "metadata": {},
   "outputs": [
    {
     "data": {
      "text/html": [
       "\n",
       "<h1>misspellings</h1>\n",
       "\n",
       "<p>Work in Progress</p>\n"
      ],
      "text/plain": [
       "<IPython.core.display.HTML object>"
      ]
     },
     "metadata": {},
     "output_type": "display_data"
    }
   ],
   "source": [
    "%%html\n",
    "\n",
    "<h1>misspellings</h1>\n",
    "\n",
    "<p>Work in Progress</p>"
   ]
  },
  {
   "cell_type": "code",
   "execution_count": null,
   "metadata": {},
   "outputs": [],
   "source": []
  },
  {
   "cell_type": "code",
   "execution_count": 2,
   "metadata": {},
   "outputs": [],
   "source": [
    "from typing import Iterator\n",
    "\n",
    "import names\n",
    "import numpy as np\n",
    "import pandas as pd"
   ]
  },
  {
   "cell_type": "code",
   "execution_count": null,
   "metadata": {},
   "outputs": [],
   "source": []
  },
  {
   "cell_type": "code",
   "execution_count": 3,
   "metadata": {},
   "outputs": [],
   "source": [
    "class NameGenerator(object):\n",
    "\n",
    "    chars:Iterator[str] = ['A', 'B', 'C', 'D', 'E', 'F', 'G', 'H', 'I', 'J', 'K', 'L', 'M', 'N', 'O', 'P', 'Q', 'R', 'S', 'T', 'U', 'V', 'W', 'X', 'Y', 'Z']\n",
    "\n",
    "    def get_first_name(self) -> str:\n",
    "        first_name = names.get_first_name()\n",
    "        while len(first_name) < 3:\n",
    "            first_name = names.get_first_name()\n",
    "        return first_name\n",
    "\n",
    "    def get_middle_initial(self, ends_with_period:bool = True) -> str:\n",
    "        index = np.random.randint(0, len(self.chars) - 1, size=1, dtype=int)[0]\n",
    "        initial = self.chars[index]\n",
    "        if ends_with_period:\n",
    "            return f\"{initial}.\"\n",
    "\n",
    "        return initial\n",
    "\n",
    "    def get_last_name(self) -> str:\n",
    "        return names.get_last_name()\n",
    "    \n",
    "class Perturbation(object):\n",
    "    \n",
    "    def tweak(self, text):\n",
    "        \n",
    "        l = len(text)\n",
    "        \n",
    "        if l == 2:\n",
    "            return text\n",
    "        \n",
    "        swap = np.random.randint(1, len(text)-1)\n",
    "        \n",
    "        a = text[swap]\n",
    "        b = text[swap+1]\n",
    "        \n",
    "        return f'{text[0:swap]}{b}{a}{text[swap+2:]}'"
   ]
  },
  {
   "cell_type": "code",
   "execution_count": null,
   "metadata": {},
   "outputs": [],
   "source": []
  },
  {
   "cell_type": "code",
   "execution_count": 4,
   "metadata": {},
   "outputs": [],
   "source": [
    "### helpers,\n",
    "generator = NameGenerator()\n",
    "perturb = Perturbation()"
   ]
  },
  {
   "cell_type": "code",
   "execution_count": null,
   "metadata": {},
   "outputs": [],
   "source": []
  },
  {
   "cell_type": "code",
   "execution_count": 5,
   "metadata": {},
   "outputs": [],
   "source": [
    "total = 5000"
   ]
  },
  {
   "cell_type": "code",
   "execution_count": 6,
   "metadata": {},
   "outputs": [],
   "source": [
    "good = []\n",
    "for _ in range(total):\n",
    "    fn = generator.get_first_name()\n",
    "    ln = generator.get_last_name()\n",
    "    \n",
    "    fn2 = fn\n",
    "    ln2 = ln\n",
    "    \n",
    "    if np.random.rand() > .5:\n",
    "        fn2 = perturb.tweak(fn)\n",
    "    else:\n",
    "        ln2 = perturb.tweak(ln)\n",
    "    \n",
    "    good.append(\n",
    "        {\n",
    "            'fn1': f'{fn} {ln}',\n",
    "            'fn2': f'{fn2} {ln2}',\n",
    "            'target': 1\n",
    "        }\n",
    "    )\n",
    "    \n",
    "bad = []\n",
    "for _ in range(total):\n",
    "    index1 = np.random.randint(0, total)\n",
    "    \n",
    "    index2 = np.random.randint(0, total)\n",
    "    while index1 == index2:\n",
    "        index2 = np.random.randint(0, total)\n",
    "\n",
    "    bad.append(\n",
    "        {\n",
    "            'fn1': good[index1]['fn1'],\n",
    "            'fn2': good[index2]['fn1'],\n",
    "            'target': 0\n",
    "        }\n",
    "    )"
   ]
  },
  {
   "cell_type": "code",
   "execution_count": null,
   "metadata": {},
   "outputs": [],
   "source": []
  },
  {
   "cell_type": "code",
   "execution_count": 7,
   "metadata": {},
   "outputs": [],
   "source": [
    "dataset = np.concatenate((good, bad), axis=0).tolist()"
   ]
  },
  {
   "cell_type": "code",
   "execution_count": null,
   "metadata": {},
   "outputs": [],
   "source": []
  },
  {
   "cell_type": "code",
   "execution_count": 8,
   "metadata": {},
   "outputs": [],
   "source": [
    "import Levenshtein"
   ]
  },
  {
   "cell_type": "code",
   "execution_count": null,
   "metadata": {},
   "outputs": [],
   "source": []
  },
  {
   "cell_type": "code",
   "execution_count": 9,
   "metadata": {},
   "outputs": [
    {
     "data": {
      "text/html": [
       "<div>\n",
       "<style scoped>\n",
       "    .dataframe tbody tr th:only-of-type {\n",
       "        vertical-align: middle;\n",
       "    }\n",
       "\n",
       "    .dataframe tbody tr th {\n",
       "        vertical-align: top;\n",
       "    }\n",
       "\n",
       "    .dataframe thead th {\n",
       "        text-align: right;\n",
       "    }\n",
       "</style>\n",
       "<table border=\"1\" class=\"dataframe\">\n",
       "  <thead>\n",
       "    <tr style=\"text-align: right;\">\n",
       "      <th></th>\n",
       "      <th>fn1</th>\n",
       "      <th>fn2</th>\n",
       "      <th>target</th>\n",
       "    </tr>\n",
       "  </thead>\n",
       "  <tbody>\n",
       "    <tr>\n",
       "      <th>9282</th>\n",
       "      <td>Jason Lawson</td>\n",
       "      <td>Margie Brunner</td>\n",
       "      <td>0</td>\n",
       "    </tr>\n",
       "    <tr>\n",
       "      <th>4688</th>\n",
       "      <td>Chin Kirley</td>\n",
       "      <td>Chin Kirlye</td>\n",
       "      <td>1</td>\n",
       "    </tr>\n",
       "    <tr>\n",
       "      <th>3533</th>\n",
       "      <td>Juan Rutherford</td>\n",
       "      <td>Juan Ruthreford</td>\n",
       "      <td>1</td>\n",
       "    </tr>\n",
       "    <tr>\n",
       "      <th>6894</th>\n",
       "      <td>Theodore Woods</td>\n",
       "      <td>Titus Shehee</td>\n",
       "      <td>0</td>\n",
       "    </tr>\n",
       "    <tr>\n",
       "      <th>555</th>\n",
       "      <td>Harry Quinones</td>\n",
       "      <td>Harry Quinones</td>\n",
       "      <td>1</td>\n",
       "    </tr>\n",
       "  </tbody>\n",
       "</table>\n",
       "</div>"
      ],
      "text/plain": [
       "                  fn1              fn2  target\n",
       "9282     Jason Lawson   Margie Brunner       0\n",
       "4688      Chin Kirley      Chin Kirlye       1\n",
       "3533  Juan Rutherford  Juan Ruthreford       1\n",
       "6894   Theodore Woods     Titus Shehee       0\n",
       "555    Harry Quinones   Harry Quinones       1"
      ]
     },
     "execution_count": 9,
     "metadata": {},
     "output_type": "execute_result"
    }
   ],
   "source": [
    "data = pd.DataFrame(dataset).sample(frac=1)\n",
    "data.head()"
   ]
  },
  {
   "cell_type": "code",
   "execution_count": null,
   "metadata": {},
   "outputs": [],
   "source": []
  },
  {
   "cell_type": "code",
   "execution_count": 10,
   "metadata": {},
   "outputs": [],
   "source": [
    "def calc_levenshtein_distance(row):\n",
    "    ## 'minimum number of single-character edits'\n",
    "    return Levenshtein.distance(row['fn1'], row['fn2'])\n",
    "\n",
    "def calc_hamming_distance(row):\n",
    "    fn1 = row['fn1']\n",
    "    fn2 = row['fn2']\n",
    "    \n",
    "    if len(fn1) != len(fn2):\n",
    "        return -2\n",
    "    \n",
    "    ## 'simply the number of differing characters'\n",
    "    return Levenshtein.hamming(fn1, fn2)\n",
    "\n",
    "def calc_jaro_distance(row):\n",
    "    ## 'simply the number of differing characters'\n",
    "    return Levenshtein.jaro(row['fn1'], row['fn2'])\n",
    "\n",
    "def calc_jaro_winkler_distance(row):\n",
    "    #giving more weight to common prefix, as spelling mistakes are more likely to occur near ends of words\n",
    "    return Levenshtein.jaro_winkler(row['fn1'], row['fn2'])\n",
    "\n",
    "data['lev'] = data.apply(calc_levenshtein_distance, axis = 1)\n",
    "data['jaro'] = data.apply(calc_jaro_distance, axis = 1)\n",
    "data['hamming'] = data.apply(calc_hamming_distance, axis = 1)\n",
    "data['jaro_winkler'] = data.apply(calc_jaro_winkler_distance, axis = 1)\n",
    "\n",
    "columns = ['lev', 'jaro', 'hamming', 'jaro_winkler']"
   ]
  },
  {
   "cell_type": "code",
   "execution_count": null,
   "metadata": {},
   "outputs": [],
   "source": []
  },
  {
   "cell_type": "code",
   "execution_count": 11,
   "metadata": {},
   "outputs": [
    {
     "data": {
      "text/html": [
       "<div>\n",
       "<style scoped>\n",
       "    .dataframe tbody tr th:only-of-type {\n",
       "        vertical-align: middle;\n",
       "    }\n",
       "\n",
       "    .dataframe tbody tr th {\n",
       "        vertical-align: top;\n",
       "    }\n",
       "\n",
       "    .dataframe thead th {\n",
       "        text-align: right;\n",
       "    }\n",
       "</style>\n",
       "<table border=\"1\" class=\"dataframe\">\n",
       "  <thead>\n",
       "    <tr style=\"text-align: right;\">\n",
       "      <th></th>\n",
       "      <th>fn1</th>\n",
       "      <th>fn2</th>\n",
       "      <th>target</th>\n",
       "      <th>lev</th>\n",
       "      <th>jaro</th>\n",
       "      <th>hamming</th>\n",
       "      <th>jaro_winkler</th>\n",
       "    </tr>\n",
       "  </thead>\n",
       "  <tbody>\n",
       "    <tr>\n",
       "      <th>9282</th>\n",
       "      <td>Jason Lawson</td>\n",
       "      <td>Margie Brunner</td>\n",
       "      <td>0</td>\n",
       "      <td>12</td>\n",
       "      <td>0.456349</td>\n",
       "      <td>-2</td>\n",
       "      <td>0.456349</td>\n",
       "    </tr>\n",
       "    <tr>\n",
       "      <th>4688</th>\n",
       "      <td>Chin Kirley</td>\n",
       "      <td>Chin Kirlye</td>\n",
       "      <td>1</td>\n",
       "      <td>2</td>\n",
       "      <td>0.969697</td>\n",
       "      <td>2</td>\n",
       "      <td>0.996970</td>\n",
       "    </tr>\n",
       "    <tr>\n",
       "      <th>3533</th>\n",
       "      <td>Juan Rutherford</td>\n",
       "      <td>Juan Ruthreford</td>\n",
       "      <td>1</td>\n",
       "      <td>2</td>\n",
       "      <td>0.977778</td>\n",
       "      <td>2</td>\n",
       "      <td>0.997778</td>\n",
       "    </tr>\n",
       "    <tr>\n",
       "      <th>6894</th>\n",
       "      <td>Theodore Woods</td>\n",
       "      <td>Titus Shehee</td>\n",
       "      <td>0</td>\n",
       "      <td>13</td>\n",
       "      <td>0.457937</td>\n",
       "      <td>-2</td>\n",
       "      <td>0.512143</td>\n",
       "    </tr>\n",
       "    <tr>\n",
       "      <th>555</th>\n",
       "      <td>Harry Quinones</td>\n",
       "      <td>Harry Quinones</td>\n",
       "      <td>1</td>\n",
       "      <td>0</td>\n",
       "      <td>1.000000</td>\n",
       "      <td>0</td>\n",
       "      <td>1.000000</td>\n",
       "    </tr>\n",
       "  </tbody>\n",
       "</table>\n",
       "</div>"
      ],
      "text/plain": [
       "                  fn1              fn2  target  lev      jaro  hamming  \\\n",
       "9282     Jason Lawson   Margie Brunner       0   12  0.456349       -2   \n",
       "4688      Chin Kirley      Chin Kirlye       1    2  0.969697        2   \n",
       "3533  Juan Rutherford  Juan Ruthreford       1    2  0.977778        2   \n",
       "6894   Theodore Woods     Titus Shehee       0   13  0.457937       -2   \n",
       "555    Harry Quinones   Harry Quinones       1    0  1.000000        0   \n",
       "\n",
       "      jaro_winkler  \n",
       "9282      0.456349  \n",
       "4688      0.996970  \n",
       "3533      0.997778  \n",
       "6894      0.512143  \n",
       "555       1.000000  "
      ]
     },
     "execution_count": 11,
     "metadata": {},
     "output_type": "execute_result"
    }
   ],
   "source": [
    "data.head()"
   ]
  },
  {
   "cell_type": "code",
   "execution_count": null,
   "metadata": {},
   "outputs": [],
   "source": []
  },
  {
   "cell_type": "code",
   "execution_count": 12,
   "metadata": {},
   "outputs": [],
   "source": [
    "import seaborn as sns"
   ]
  },
  {
   "cell_type": "code",
   "execution_count": null,
   "metadata": {},
   "outputs": [],
   "source": []
  },
  {
   "cell_type": "code",
   "execution_count": 13,
   "metadata": {},
   "outputs": [
    {
     "data": {
      "text/plain": [
       "<seaborn.axisgrid.PairGrid at 0x12fd77630>"
      ]
     },
     "execution_count": 13,
     "metadata": {},
     "output_type": "execute_result"
    },
    {
     "data": {
      "image/png": "[encoded data removed]",
      "text/plain": [
       "<Figure size 762.375x720 with 20 Axes>"
      ]
     },
     "metadata": {
      "needs_background": "light"
     },
     "output_type": "display_data"
    }
   ],
   "source": [
    "sns.pairplot(data=data, vars = columns, hue='target')"
   ]
  },
  {
   "cell_type": "code",
   "execution_count": null,
   "metadata": {},
   "outputs": [],
   "source": []
  },
  {
   "cell_type": "code",
   "execution_count": 14,
   "metadata": {},
   "outputs": [],
   "source": [
    "from sklearn import svm\n",
    "from sklearn.metrics import mean_squared_error\n",
    "from sklearn.model_selection import train_test_split"
   ]
  },
  {
   "cell_type": "code",
   "execution_count": null,
   "metadata": {},
   "outputs": [],
   "source": []
  },
  {
   "cell_type": "code",
   "execution_count": 15,
   "metadata": {},
   "outputs": [],
   "source": [
    "X = data.loc[:, ['lev', 'jaro']]\n",
    "y = data.loc[:, ['target']]\n",
    "\n",
    "X_train, X_test, y_train, y_test = train_test_split(X, y)"
   ]
  },
  {
   "cell_type": "code",
   "execution_count": null,
   "metadata": {},
   "outputs": [],
   "source": []
  },
  {
   "cell_type": "code",
   "execution_count": 16,
   "metadata": {},
   "outputs": [
    {
     "name": "stderr",
     "output_type": "stream",
     "text": [
      "/usr/local/lib/python3.7/site-packages/sklearn/utils/validation.py:724: DataConversionWarning: A column-vector y was passed when a 1d array was expected. Please change the shape of y to (n_samples, ), for example using ravel().\n",
      "  y = column_or_1d(y, warn=True)\n",
      "/usr/local/lib/python3.7/site-packages/sklearn/svm/base.py:193: FutureWarning: The default value of gamma will change from 'auto' to 'scale' in version 0.22 to account better for unscaled features. Set gamma explicitly to 'auto' or 'scale' to avoid this warning.\n",
      "  \"avoid this warning.\", FutureWarning)\n"
     ]
    },
    {
     "data": {
      "text/plain": [
       "SVC(C=1.0, cache_size=200, class_weight=None, coef0=0.0,\n",
       "    decision_function_shape='ovr', degree=3, gamma='auto_deprecated',\n",
       "    kernel='rbf', max_iter=-1, probability=False, random_state=None,\n",
       "    shrinking=True, tol=0.001, verbose=False)"
      ]
     },
     "execution_count": 16,
     "metadata": {},
     "output_type": "execute_result"
    }
   ],
   "source": [
    "clf = svm.SVC()\n",
    "\n",
    "clf.fit(X_train, y_train)"
   ]
  },
  {
   "cell_type": "code",
   "execution_count": null,
   "metadata": {},
   "outputs": [],
   "source": []
  },
  {
   "cell_type": "code",
   "execution_count": 17,
   "metadata": {},
   "outputs": [
    {
     "data": {
      "text/plain": [
       "0.0"
      ]
     },
     "execution_count": 17,
     "metadata": {},
     "output_type": "execute_result"
    }
   ],
   "source": [
    "mean_squared_error(clf.predict(X_test), y_test)"
   ]
  },
  {
   "cell_type": "code",
   "execution_count": null,
   "metadata": {},
   "outputs": [],
   "source": []
  }
 ],
 "metadata": {
  "kernelspec": {
   "display_name": "Python 3",
   "language": "python",
   "name": "python3"
  },
  "language_info": {
   "codemirror_mode": {
    "name": "ipython",
    "version": 3
   },
   "file_extension": ".py",
   "mimetype": "text/x-python",
   "name": "python",
   "nbconvert_exporter": "python",
   "pygments_lexer": "ipython3",
   "version": "3.7.3"
  }
 },
 "nbformat": 4,
 "nbformat_minor": 4
}
