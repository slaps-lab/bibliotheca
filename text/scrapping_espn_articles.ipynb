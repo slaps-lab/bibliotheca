{
 "cells": [
  {
   "cell_type": "code",
   "execution_count": 1,
   "metadata": {},
   "outputs": [],
   "source": [
    "class RssParser(object):\n",
    "    \n",
    "    def run(self, feed: dict) -> dict:\n",
    "        return {\n",
    "          'title': feed.feed.title,\n",
    "          'links': [ entry.link for entry in feed.entries ]\n",
    "        }"
   ]
  },
  {
   "cell_type": "code",
   "execution_count": null,
   "metadata": {},
   "outputs": [],
   "source": []
  },
  {
   "cell_type": "code",
   "execution_count": 2,
   "metadata": {},
   "outputs": [],
   "source": [
    "from abc import ABC, abstractmethod\n",
    "\n",
    "class AbstractRequestor(ABC):\n",
    "    \n",
    "    @abstractmethod\n",
    "    def run(self, url: str) -> dict:\n",
    "        pass"
   ]
  },
  {
   "cell_type": "code",
   "execution_count": null,
   "metadata": {},
   "outputs": [],
   "source": []
  },
  {
   "cell_type": "code",
   "execution_count": 3,
   "metadata": {},
   "outputs": [],
   "source": [
    "import feedparser\n",
    "\n",
    "class RssRequestor(AbstractRequestor):\n",
    "    \n",
    "    parser: RssParser\n",
    "    \n",
    "    def __init__(self, parser: RssParser):\n",
    "        self.parser = parser\n",
    "\n",
    "    def run(self, url:str) -> dict:\n",
    "        feed = feedparser.parse(url)\n",
    "        return self.parser.run(feed)"
   ]
  },
  {
   "cell_type": "code",
   "execution_count": null,
   "metadata": {},
   "outputs": [],
   "source": []
  },
  {
   "cell_type": "code",
   "execution_count": 4,
   "metadata": {},
   "outputs": [
    {
     "data": {
      "text/plain": [
       "{'title': 'www.espn.com - NBA',\n",
       " 'links': ['https://www.espn.com/nba/story/_/id/29039958/magic-johnson-sees-overlap-coronavirus-aids-crises',\n",
       "  'https://www.espn.com/nba/story/_/id/29039317/gregg-popovich-gives-pep-talk-staff-san-antonio-food-bank',\n",
       "  'https://www.espn.com/nba/story/_/id/29034717/chinese-basketball-association-pushes-back-restart-least-july',\n",
       "  'https://www.espn.com/nba/story/_/id/29035779/after-bulls-shake-staff-court-zach-lavine-set-lead-chicago-charge-court',\n",
       "  'https://www.espn.com/espn/story/_/id/29037099/donald-trump-includes-sports-execs-200-person-advisory-group',\n",
       "  'https://www.espn.com/nba/story/_/id/29030877/mother-timberwolves-star-karl-anthony-towns-dies-due-complications-coronavirus',\n",
       "  'https://www.espn.com/mma/story/_/id/29041258/shaquille-oneal-credits-nba-success-mma',\n",
       "  'https://www.espn.com/nba/story/_/id/29026754/the-last-dance-know-michael-jordan-bulls-watching-doc',\n",
       "  'https://www.espn.com/nba/allstar2014/story/_/page/dunk-2000/oral-history-2000-nba-slam-dunk-contest',\n",
       "  'https://www.espn.com/espn/feature/story/_/id/13713188/after-15-years-saw-vince-carter-leap-frederic-weis-sydney-believe-witnessed',\n",
       "  'https://www.espn.com/nba/story/_/id/29031661/why-chicago-bulls-cleaned-house-their-own-words',\n",
       "  'https://www.espn.com/nba/story/_/id/29021691/nba-goat-debate-big-questions-michael-jordan-greatest-players-ever',\n",
       "  'https://www.espn.com/espn/story/_/id/29035339/sports-experiences-fuel-challenge-fight-hunger',\n",
       "  'https://www.espn.com/nba/story/_/id/29023069/the-luke-walton-all-stars-nine-surprising-players-nba-season',\n",
       "  'https://www.espn.com/nba/story/_/id/29021933/nba-horse-challenge-grading-every-player-quarterfinals',\n",
       "  'https://www.espn.com/nba/story/_/id/29022285/why-nba-games-start-immediately-season-cleared-resume']}"
      ]
     },
     "execution_count": 4,
     "metadata": {},
     "output_type": "execute_result"
    }
   ],
   "source": [
    "parser = RssParser()\n",
    "requestor = RssRequestor(parser)\n",
    "response = requestor.run(\n",
    "    'https://www.espn.com/espn/rss/nba/news'\n",
    ")\n",
    "\n",
    "response"
   ]
  },
  {
   "cell_type": "code",
   "execution_count": null,
   "metadata": {},
   "outputs": [],
   "source": []
  },
  {
   "cell_type": "code",
   "execution_count": 5,
   "metadata": {},
   "outputs": [],
   "source": [
    "from bs4 import BeautifulSoup\n",
    "\n",
    "class AbstractWebsiteParser(ABC):\n",
    "    \n",
    "    @abstractmethod\n",
    "    def run(self, html: str) -> dict:\n",
    "        pass\n",
    "    \n",
    "class EspnWebsiteParser(AbstractWebsiteParser):\n",
    "    \n",
    "    def run(self, html: str) -> dict:\n",
    "        \n",
    "        bs = BeautifulSoup(html, 'html.parser')\n",
    "\n",
    "        elements_to_remove = [\n",
    "            bs.find_all('ul', 'article-social'),\n",
    "            bs.find_all('div', 'article-meta'),\n",
    "            bs.find_all('aside'),\n",
    "            bs.find_all('div', 'teads-inread'),\n",
    "            bs.find_all('figure'),\n",
    "            bs.find_all('div', 'cookie-overlay')\n",
    "        ]\n",
    "\n",
    "        for element_search in elements_to_remove:\n",
    "            for tag in element_search:\n",
    "                tag.decompose()\n",
    "\n",
    "        for a in bs.find_all('a'):\n",
    "            a.replaceWith(a.text)\n",
    "\n",
    "        p = [ p.text for p in bs.find_all('p') ]\n",
    "\n",
    "        return {\n",
    "            'text': '\\n'.join(p).strip()\n",
    "        }"
   ]
  },
  {
   "cell_type": "code",
   "execution_count": null,
   "metadata": {},
   "outputs": [],
   "source": []
  },
  {
   "cell_type": "code",
   "execution_count": 6,
   "metadata": {},
   "outputs": [],
   "source": [
    "import requests\n",
    "\n",
    "class WebsiteRequestor(AbstractRequestor):\n",
    "    \n",
    "    parser: AbstractWebsiteParser\n",
    "    \n",
    "    def __init__(self, parser: AbstractWebsiteParser):\n",
    "        self.parser = parser\n",
    "\n",
    "    def run(self, url: str) -> dict:\n",
    "        response = requests.get(url)\n",
    "        assert response.status_code == 200, \\\n",
    "            f'status code: ${response.status_code}'\n",
    "\n",
    "        return self.parser.run(response.text)"
   ]
  },
  {
   "cell_type": "code",
   "execution_count": null,
   "metadata": {},
   "outputs": [],
   "source": []
  },
  {
   "cell_type": "code",
   "execution_count": 7,
   "metadata": {},
   "outputs": [
    {
     "data": {
      "text/plain": [
       "'For five-t'"
      ]
     },
     "execution_count": 7,
     "metadata": {},
     "output_type": "execute_result"
    }
   ],
   "source": [
    "parser = EspnWebsiteParser()\n",
    "requestor = WebsiteRequestor(parser)\n",
    "response = requestor.run(\n",
    "    'https://www.espn.com/nba/story/_/id/29039958/magic-johnson-sees-overlap-coronavirus-aids-crises'\n",
    ")\n",
    "\n",
    "## sample it out,\n",
    "response['text'][:10]"
   ]
  },
  {
   "cell_type": "code",
   "execution_count": null,
   "metadata": {},
   "outputs": [],
   "source": []
  },
  {
   "cell_type": "code",
   "execution_count": 8,
   "metadata": {},
   "outputs": [],
   "source": [
    "from typing import Iterator\n",
    "\n",
    "import time\n",
    "\n",
    "class Runner(object):\n",
    "    \n",
    "    rss_requestor: AbstractRequestor\n",
    "    website_requestor: AbstractRequestor\n",
    "    \n",
    "    sleep_time_in_seconds: int\n",
    "    \n",
    "    def __init__(self, \\\n",
    "        rss_requestor: AbstractRequestor, \\\n",
    "        website_requestor: AbstractRequestor, \\\n",
    "        sleep_time_in_seconds = 60):\n",
    "        self.rss_requestor = rss_requestor\n",
    "        self.website_requestor = website_requestor\n",
    "        self.sleep_time_in_seconds = sleep_time_in_seconds\n",
    "    \n",
    "    def run(self, url: str) -> Iterator[tuple]:\n",
    "        feed = self.rss_requestor.run(url)\n",
    "        for link in feed['links']:\n",
    "            response = self.website_requestor.run(link)\n",
    "            text = response['text']\n",
    "            yield (link, text)\n",
    "            \n",
    "            time.sleep(self.sleep_time_in_seconds)"
   ]
  },
  {
   "cell_type": "code",
   "execution_count": null,
   "metadata": {},
   "outputs": [],
   "source": []
  },
  {
   "cell_type": "code",
   "execution_count": null,
   "metadata": {},
   "outputs": [],
   "source": [
    "import re"
   ]
  },
  {
   "cell_type": "code",
   "execution_count": null,
   "metadata": {},
   "outputs": [],
   "source": []
  },
  {
   "cell_type": "code",
   "execution_count": null,
   "metadata": {},
   "outputs": [
    {
     "name": "stdout",
     "output_type": "stream",
     "text": [
      "finished: ../data/espn/nba/documents/29039958.txt\n",
      "finished: ../data/espn/nba/documents/29039317.txt\n",
      "finished: ../data/espn/nba/documents/29034717.txt\n"
     ]
    }
   ],
   "source": [
    "output_directory = '../data/espn/nba/documents'\n",
    "\n",
    "url = 'https://www.espn.com/espn/rss/nba/news'\n",
    "rss_requestor = RssRequestor(RssParser())\n",
    "website_requestor = WebsiteRequestor(EspnWebsiteParser())\n",
    "runner = Runner(rss_requestor, website_requestor)\n",
    "\n",
    "for link, text in runner.run(url):\n",
    "    \n",
    "    story_id_search = re.compile(r'\\/(?:id|page)\\/([^/]+)\\/').search(link)\n",
    "    assert story_id_search != None, f'error: {link}'\n",
    "    \n",
    "    story_id = story_id_search.group(1)\n",
    "    article_path = f'{output_directory}/{story_id}.txt'\n",
    "    \n",
    "    with open(article_path, 'w') as output:\n",
    "        output.write(text)\n",
    "        \n",
    "    print(f'finished: {article_path}')"
   ]
  },
  {
   "cell_type": "code",
   "execution_count": null,
   "metadata": {},
   "outputs": [],
   "source": []
  }
 ],
 "metadata": {
  "kernelspec": {
   "display_name": "Python 3",
   "language": "python",
   "name": "python3"
  },
  "language_info": {
   "codemirror_mode": {
    "name": "ipython",
    "version": 3
   },
   "file_extension": ".py",
   "mimetype": "text/x-python",
   "name": "python",
   "nbconvert_exporter": "python",
   "pygments_lexer": "ipython3",
   "version": "3.7.3"
  }
 },
 "nbformat": 4,
 "nbformat_minor": 4
}
